{
 "cells": [
  {
   "cell_type": "code",
   "execution_count": 1,
   "id": "d10b16d1",
   "metadata": {},
   "outputs": [],
   "source": [
    "import tensorflow as tf\n",
    "from tensorflow.keras import datasets, layers, models\n",
    "import matplotlib.pyplot as plt\n",
    "import matplotlib.image as mpimg\n",
    "import cv2\n",
    "import numpy as np\n",
    "import pandas as pd\n",
    "from sklearn.model_selection import train_test_split\n",
    "from sklearn.preprocessing import StandardScaler"
   ]
  },
  {
   "cell_type": "code",
   "execution_count": 2,
   "id": "64f2351d",
   "metadata": {},
   "outputs": [],
   "source": [
    "img_data_train=[]\n",
    "for i in range (5000):\n",
    "    img = mpimg.imread('../datasets/cartoon_set/img/' + str(i) + '.png')\n",
    "    img=cv2.resize(img,(100,100))\n",
    "    img_data_train.append(img)"
   ]
  },
  {
   "cell_type": "code",
   "execution_count": 3,
   "id": "0daea0d3",
   "metadata": {},
   "outputs": [],
   "source": [
    "img_data_test=[]\n",
    "for i in range (2500):\n",
    "    img = mpimg.imread('../datasets/cartoon_set_test/img/' + str(i) + '.png')\n",
    "    img=cv2.resize(img,(100,100))\n",
    "    img_data_test.append(img)"
   ]
  },
  {
   "cell_type": "code",
   "execution_count": 4,
   "id": "c6a4d834",
   "metadata": {},
   "outputs": [],
   "source": [
    "train_label=pd.read_table('../datasets/cartoon_set/labels.csv')\n",
    "test_label=pd.read_table('../datasets/cartoon_set_test/labels.csv')"
   ]
  },
  {
   "cell_type": "code",
   "execution_count": 11,
   "id": "662744d4",
   "metadata": {},
   "outputs": [],
   "source": [
    "x_train=np.array(img_data_train)\n",
    "x_test=np.array(img_data_test)\n",
    "\n",
    "y_train= train_label['face_shape']\n",
    "y_test= test_label['face_shape']\n",
    "\n",
    "y_train = y_train[:5000]\n",
    "y_train = np.array(y_train)\n",
    "vector2arr = np.mat(y_train)\n",
    "y_train = vector2arr.A.T\n",
    "\n",
    "y_test=y_test\n",
    "y_test = np.array(y_test)\n",
    "vector2arr = np.mat(y_test)\n",
    "y_test = vector2arr.A.T"
   ]
  },
  {
   "cell_type": "code",
   "execution_count": 12,
   "id": "87c957a3",
   "metadata": {},
   "outputs": [
    {
     "name": "stdout",
     "output_type": "stream",
     "text": [
      "Model: \"sequential_1\"\n",
      "_________________________________________________________________\n",
      " Layer (type)                Output Shape              Param #   \n",
      "=================================================================\n",
      " conv2d_3 (Conv2D)           (None, 98, 98, 32)        1184      \n",
      "                                                                 \n",
      " max_pooling2d_2 (MaxPooling  (None, 49, 49, 32)       0         \n",
      " 2D)                                                             \n",
      "                                                                 \n",
      " conv2d_4 (Conv2D)           (None, 47, 47, 64)        18496     \n",
      "                                                                 \n",
      " max_pooling2d_3 (MaxPooling  (None, 23, 23, 64)       0         \n",
      " 2D)                                                             \n",
      "                                                                 \n",
      " conv2d_5 (Conv2D)           (None, 21, 21, 64)        36928     \n",
      "                                                                 \n",
      " dropout_2 (Dropout)         (None, 21, 21, 64)        0         \n",
      "                                                                 \n",
      " flatten_1 (Flatten)         (None, 28224)             0         \n",
      "                                                                 \n",
      " dense_3 (Dense)             (None, 128)               3612800   \n",
      "                                                                 \n",
      " dropout_3 (Dropout)         (None, 128)               0         \n",
      "                                                                 \n",
      " dense_4 (Dense)             (None, 64)                8256      \n",
      "                                                                 \n",
      " dense_5 (Dense)             (None, 10)                650       \n",
      "                                                                 \n",
      "=================================================================\n",
      "Total params: 3,678,314\n",
      "Trainable params: 3,678,314\n",
      "Non-trainable params: 0\n",
      "_________________________________________________________________\n"
     ]
    }
   ],
   "source": [
    "model = models.Sequential([\n",
    "    layers.Conv2D(32, (3, 3), activation='relu', input_shape=(100,100,4)),  # 卷积层1，卷积核3*3\n",
    "    layers.MaxPooling2D((2, 2)),  # 池化层1，2*2采样\n",
    "    layers.Conv2D(64, (3, 3), activation='relu'),  # 卷积层2，卷积核3*3\n",
    "    layers.MaxPooling2D((2, 2)),  # 池化层2，2*2采样\n",
    "    layers.Conv2D(64, (3, 3), activation='relu'),  # 卷积层3，卷积核3*3\n",
    "    layers.Dropout(.2),\n",
    "\n",
    "\n",
    "    layers.Flatten(),  # Flatten层，连接卷积层与全连接层\n",
    "    layers.Dense(128, activation='relu'),  # 全连接层，特征进一步提取\n",
    "    layers.Dropout(.2),\n",
    "    layers.Dense(64, activation='relu'),  # 全连接层，特征进一步提取\n",
    "    layers.Dense(10)  # 输出层，输出预期结果\"\n",
    "])\n",
    "\n",
    "model.summary()  # 打印网络结构\n"
   ]
  },
  {
   "cell_type": "code",
   "execution_count": 13,
   "id": "3608641d",
   "metadata": {},
   "outputs": [],
   "source": [
    "model.compile(optimizer='adam',loss=tf.keras.losses.SparseCategoricalCrossentropy(from_logits=True),metrics=['accuracy'])"
   ]
  },
  {
   "cell_type": "code",
   "execution_count": 14,
   "id": "dfddd73b",
   "metadata": {},
   "outputs": [
    {
     "name": "stdout",
     "output_type": "stream",
     "text": [
      "Epoch 1/10\n",
      "157/157 [==============================] - 39s 235ms/step - loss: 1.6382 - accuracy: 0.2392 - val_loss: 1.2984 - val_accuracy: 0.4528\n",
      "Epoch 2/10\n",
      "157/157 [==============================] - 36s 229ms/step - loss: 0.3825 - accuracy: 0.8588 - val_loss: 0.0525 - val_accuracy: 0.9856\n",
      "Epoch 3/10\n",
      "157/157 [==============================] - 36s 230ms/step - loss: 0.0345 - accuracy: 0.9898 - val_loss: 0.0162 - val_accuracy: 0.9964\n",
      "Epoch 4/10\n",
      "157/157 [==============================] - 36s 230ms/step - loss: 0.0155 - accuracy: 0.9946 - val_loss: 0.0068 - val_accuracy: 0.9976\n",
      "Epoch 5/10\n",
      "157/157 [==============================] - 36s 231ms/step - loss: 0.0061 - accuracy: 0.9986 - val_loss: 0.0127 - val_accuracy: 0.9960\n",
      "Epoch 6/10\n",
      "157/157 [==============================] - 36s 232ms/step - loss: 0.0089 - accuracy: 0.9982 - val_loss: 0.0070 - val_accuracy: 0.9984\n",
      "Epoch 7/10\n",
      "157/157 [==============================] - 36s 231ms/step - loss: 0.0018 - accuracy: 0.9996 - val_loss: 0.0062 - val_accuracy: 0.9976\n",
      "Epoch 8/10\n",
      "157/157 [==============================] - 36s 231ms/step - loss: 0.0023 - accuracy: 0.9994 - val_loss: 0.0070 - val_accuracy: 0.9984\n",
      "Epoch 9/10\n",
      "157/157 [==============================] - 36s 230ms/step - loss: 0.0070 - accuracy: 0.9978 - val_loss: 0.0097 - val_accuracy: 0.9984\n",
      "Epoch 10/10\n",
      "157/157 [==============================] - 36s 232ms/step - loss: 0.0018 - accuracy: 0.9998 - val_loss: 0.0078 - val_accuracy: 0.9988\n"
     ]
    }
   ],
   "source": [
    "history = model.fit(x_train, y_train, epochs=10, validation_data=(x_test, y_test))"
   ]
  },
  {
   "cell_type": "code",
   "execution_count": 15,
   "id": "146220a2",
   "metadata": {},
   "outputs": [
    {
     "name": "stdout",
     "output_type": "stream",
     "text": [
      "Keras weights file (<HDF5 file \"variables.h5\" (mode r+)>) saving:\n",
      "...layers\\conv2d\n",
      "......vars\n",
      ".........0\n",
      ".........1\n",
      "...layers\\conv2d_1\n",
      "......vars\n",
      ".........0\n",
      ".........1\n",
      "...layers\\conv2d_2\n",
      "......vars\n",
      ".........0\n",
      ".........1\n",
      "...layers\\dense\n",
      "......vars\n",
      ".........0\n",
      ".........1\n",
      "...layers\\dense_1\n",
      "......vars\n",
      ".........0\n",
      ".........1\n",
      "...layers\\dense_2\n",
      "......vars\n",
      ".........0\n",
      ".........1\n",
      "...layers\\dropout\n",
      "......vars\n",
      "...layers\\dropout_1\n",
      "......vars\n",
      "...layers\\flatten\n",
      "......vars\n",
      "...layers\\max_pooling2d\n",
      "......vars\n",
      "...layers\\max_pooling2d_1\n",
      "......vars\n",
      "...metrics\\mean\n",
      "......vars\n",
      ".........0\n",
      ".........1\n",
      "...metrics\\mean_metric_wrapper\n",
      "......vars\n",
      ".........0\n",
      ".........1\n",
      "...optimizer\n",
      "......vars\n",
      ".........0\n",
      ".........1\n",
      ".........10\n",
      ".........11\n",
      ".........12\n",
      ".........13\n",
      ".........14\n",
      ".........15\n",
      ".........16\n",
      ".........17\n",
      ".........18\n",
      ".........19\n",
      ".........2\n",
      ".........20\n",
      ".........21\n",
      ".........22\n",
      ".........23\n",
      ".........24\n",
      ".........3\n",
      ".........4\n",
      ".........5\n",
      ".........6\n",
      ".........7\n",
      ".........8\n",
      ".........9\n",
      "...vars\n",
      "Keras model archive saving:\n",
      "File Name                                             Modified             Size\n",
      "config.json                                    2023-01-06 05:03:25         4605\n",
      "metadata.json                                  2023-01-06 05:03:25           64\n",
      "variables.h5                                   2023-01-06 05:03:25     44184656\n"
     ]
    }
   ],
   "source": [
    "import pickle\n",
    "#save model\n",
    "pickle.dump(model,open(\"CNN_shape.dat\",\"wb\"))  "
   ]
  },
  {
   "cell_type": "code",
   "execution_count": 16,
   "id": "d696e243",
   "metadata": {},
   "outputs": [
    {
     "data": {
      "image/png": "[encoded data removed]",
      "text/plain": [
       "<Figure size 432x288 with 1 Axes>"
      ]
     },
     "metadata": {
      "needs_background": "light"
     },
     "output_type": "display_data"
    },
    {
     "name": "stdout",
     "output_type": "stream",
     "text": [
      "79/79 - 4s - loss: 0.0078 - accuracy: 0.9988 - 4s/epoch - 54ms/step\n"
     ]
    },
    {
     "data": {
      "text/plain": [
       "<Figure size 432x288 with 0 Axes>"
      ]
     },
     "metadata": {},
     "output_type": "display_data"
    }
   ],
   "source": [
    "plt.plot(history.history['accuracy'], label='accuracy')\n",
    "plt.plot(history.history['val_accuracy'], label='val_accuracy')\n",
    "plt.xlabel('Epoch')\n",
    "plt.ylabel('Accuracy')\n",
    "plt.ylim([0.2, 1])\n",
    "plt.legend(loc='lower right')\n",
    "plt.show()\n",
    "test_loss, test_acc = model.evaluate(x_test,y_test, verbose=2)\n",
    "plt.savefig(\"./B1_accuracy.jpg\") "
   ]
  },
  {
   "cell_type": "code",
   "execution_count": 17,
   "id": "5eda50f6",
   "metadata": {},
   "outputs": [
    {
     "data": {
      "image/png": "[encoded data removed]",
      "text/plain": [
       "<Figure size 432x288 with 1 Axes>"
      ]
     },
     "metadata": {
      "needs_background": "light"
     },
     "output_type": "display_data"
    },
    {
     "name": "stdout",
     "output_type": "stream",
     "text": [
      "79/79 - 4s - loss: 0.0078 - accuracy: 0.9988 - 4s/epoch - 56ms/step\n"
     ]
    },
    {
     "data": {
      "text/plain": [
       "<Figure size 432x288 with 0 Axes>"
      ]
     },
     "metadata": {},
     "output_type": "display_data"
    }
   ],
   "source": [
    "plt.plot(history.history['loss'], label='loss')\n",
    "plt.plot(history.history['val_loss'], label='val_loss')\n",
    "plt.xlabel('Epoch')\n",
    "plt.ylabel('loss')\n",
    "plt.ylim([0, 1.7])\n",
    "plt.legend(loc='lower right')\n",
    "plt.show()\n",
    "test_loss, test_acc = model.evaluate(x_test,y_test, verbose=2)\n",
    "plt.savefig(\"./B1_loss.jpg\") "
   ]
  },
  {
   "cell_type": "code",
   "execution_count": null,
   "id": "2219ba96",
   "metadata": {},
   "outputs": [],
   "source": []
  }
 ],
 "metadata": {
  "kernelspec": {
   "display_name": "Python 3 (ipykernel)",
   "language": "python",
   "name": "python3"
  },
  "language_info": {
   "codemirror_mode": {
    "name": "ipython",
    "version": 3
   },
   "file_extension": ".py",
   "mimetype": "text/x-python",
   "name": "python",
   "nbconvert_exporter": "python",
   "pygments_lexer": "ipython3",
   "version": "3.9.12"
  }
 },
 "nbformat": 4,
 "nbformat_minor": 5
}
