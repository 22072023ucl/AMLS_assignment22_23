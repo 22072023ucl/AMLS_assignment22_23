{
 "cells": [
  {
   "cell_type": "code",
   "execution_count": 1,
   "id": "d10b16d1",
   "metadata": {},
   "outputs": [],
   "source": [
    "import tensorflow as tf\n",
    "from tensorflow.keras import layers, models\n",
    "import matplotlib.pyplot as plt\n",
    "import matplotlib.image as mpimg\n",
    "import cv2\n",
    "import numpy as np\n",
    "import pandas as pd\n",
    "from sklearn.model_selection import train_test_split\n",
    "from sklearn.preprocessing import StandardScaler"
   ]
  },
  {
   "cell_type": "code",
   "execution_count": 2,
   "id": "64f2351d",
   "metadata": {},
   "outputs": [],
   "source": [
    "img_data_train=[]\n",
    "for i in range (4000):\n",
    "    img = mpimg.imread('../datasets/cartoon_set/img/' + str(i) + '.png')\n",
    "    img=cv2.resize(img,(100,100))\n",
    "    img_data_train.append(img)"
   ]
  },
  {
   "cell_type": "code",
   "execution_count": 3,
   "id": "0daea0d3",
   "metadata": {},
   "outputs": [],
   "source": [
    "img_data_test=[]\n",
    "for i in range (2500):\n",
    "    img = mpimg.imread('../datasets/cartoon_set_test/img/' + str(i) + '.png')\n",
    "    img=cv2.resize(img,(100,100))\n",
    "    img_data_test.append(img)"
   ]
  },
  {
   "cell_type": "code",
   "execution_count": 4,
   "id": "c6a4d834",
   "metadata": {},
   "outputs": [],
   "source": [
    "train_label=pd.read_table('../datasets/cartoon_set/labels.csv')\n",
    "test_label=pd.read_table('../datasets/cartoon_set_test/labels.csv')"
   ]
  },
  {
   "cell_type": "code",
   "execution_count": 5,
   "id": "662744d4",
   "metadata": {},
   "outputs": [],
   "source": [
    "x_train=np.array(img_data_train)\n",
    "x_test=np.array(img_data_test)\n",
    "\n",
    "y_train= train_label['eye_color']\n",
    "y_test= test_label['eye_color']\n",
    "\n",
    "y_train = y_train[:4000]\n",
    "y_train = np.array(y_train)\n",
    "vector2arr = np.mat(y_train)\n",
    "y_train = vector2arr.A.T\n",
    "\n",
    "y_test=y_test\n",
    "y_test = np.array(y_test)\n",
    "vector2arr = np.mat(y_test)\n",
    "y_test = vector2arr.A.T"
   ]
  },
  {
   "cell_type": "code",
   "execution_count": 6,
   "id": "87c957a3",
   "metadata": {},
   "outputs": [
    {
     "name": "stdout",
     "output_type": "stream",
     "text": [
      "Model: \"sequential\"\n",
      "_________________________________________________________________\n",
      " Layer (type)                Output Shape              Param #   \n",
      "=================================================================\n",
      " conv2d (Conv2D)             (None, 98, 98, 32)        1184      \n",
      "                                                                 \n",
      " max_pooling2d (MaxPooling2D  (None, 49, 49, 32)       0         \n",
      " )                                                               \n",
      "                                                                 \n",
      " conv2d_1 (Conv2D)           (None, 47, 47, 64)        18496     \n",
      "                                                                 \n",
      " max_pooling2d_1 (MaxPooling  (None, 23, 23, 64)       0         \n",
      " 2D)                                                             \n",
      "                                                                 \n",
      " conv2d_2 (Conv2D)           (None, 21, 21, 64)        36928     \n",
      "                                                                 \n",
      " dropout (Dropout)           (None, 21, 21, 64)        0         \n",
      "                                                                 \n",
      " flatten (Flatten)           (None, 28224)             0         \n",
      "                                                                 \n",
      " dense (Dense)               (None, 128)               3612800   \n",
      "                                                                 \n",
      " dropout_1 (Dropout)         (None, 128)               0         \n",
      "                                                                 \n",
      " dense_1 (Dense)             (None, 64)                8256      \n",
      "                                                                 \n",
      " dense_2 (Dense)             (None, 10)                650       \n",
      "                                                                 \n",
      "=================================================================\n",
      "Total params: 3,678,314\n",
      "Trainable params: 3,678,314\n",
      "Non-trainable params: 0\n",
      "_________________________________________________________________\n"
     ]
    }
   ],
   "source": [
    "model = models.Sequential([\n",
    "    layers.Conv2D(32, (3, 3), activation='relu', input_shape=(100,100,4)),  # 卷积层1，卷积核3*3\n",
    "    layers.MaxPooling2D((2, 2)),  # 池化层1，2*2采样\n",
    "    layers.Conv2D(64, (3, 3), activation='relu'),  # 卷积层2，卷积核3*3\n",
    "    layers.MaxPooling2D((2, 2)),  # 池化层2，2*2采样\n",
    "    layers.Conv2D(64, (3, 3), activation='relu'),  # 卷积层3，卷积核3*3\n",
    "    layers.Dropout(.2),\n",
    "\n",
    "\n",
    "    layers.Flatten(),  # Flatten层，连接卷积层与全连接层\n",
    "    layers.Dense(128, activation='relu'),  # 全连接层，特征进一步提取\n",
    "    layers.Dropout(.2),\n",
    "    layers.Dense(64, activation='relu'),  # 全连接层，特征进一步提取\n",
    "    layers.Dense(10)  # 输出层，输出预期结果\"\n",
    "])\n",
    "\n",
    "model.summary()  # 打印网络结构\n"
   ]
  },
  {
   "cell_type": "code",
   "execution_count": 7,
   "id": "3608641d",
   "metadata": {},
   "outputs": [],
   "source": [
    "model.compile(optimizer='adam',loss=tf.keras.losses.SparseCategoricalCrossentropy(from_logits=True),metrics=['accuracy'])"
   ]
  },
  {
   "cell_type": "code",
   "execution_count": 8,
   "id": "dfddd73b",
   "metadata": {},
   "outputs": [
    {
     "name": "stdout",
     "output_type": "stream",
     "text": [
      "Epoch 1/10\n",
      "125/125 [==============================] - 15s 113ms/step - loss: 1.5789 - accuracy: 0.2777 - val_loss: 1.1707 - val_accuracy: 0.4776\n",
      "Epoch 2/10\n",
      "125/125 [==============================] - 14s 111ms/step - loss: 0.8881 - accuracy: 0.6085 - val_loss: 0.7120 - val_accuracy: 0.6252\n",
      "Epoch 3/10\n",
      "125/125 [==============================] - 14s 115ms/step - loss: 0.5773 - accuracy: 0.7362 - val_loss: 0.4383 - val_accuracy: 0.8168\n",
      "Epoch 4/10\n",
      "125/125 [==============================] - 15s 116ms/step - loss: 0.3975 - accuracy: 0.8223 - val_loss: 0.3591 - val_accuracy: 0.8328\n",
      "Epoch 5/10\n",
      "125/125 [==============================] - 15s 119ms/step - loss: 0.3593 - accuracy: 0.8332 - val_loss: 0.3522 - val_accuracy: 0.8300\n",
      "Epoch 6/10\n",
      "125/125 [==============================] - 15s 117ms/step - loss: 0.4032 - accuracy: 0.8213 - val_loss: 0.3582 - val_accuracy: 0.8304\n",
      "Epoch 7/10\n",
      "125/125 [==============================] - 15s 117ms/step - loss: 0.3338 - accuracy: 0.8470 - val_loss: 0.3483 - val_accuracy: 0.8332\n",
      "Epoch 8/10\n",
      "125/125 [==============================] - 14s 116ms/step - loss: 0.3281 - accuracy: 0.8493 - val_loss: 0.3705 - val_accuracy: 0.8252\n",
      "Epoch 9/10\n",
      "125/125 [==============================] - 15s 119ms/step - loss: 0.3189 - accuracy: 0.8555 - val_loss: 0.3549 - val_accuracy: 0.8304\n",
      "Epoch 10/10\n",
      "125/125 [==============================] - 15s 120ms/step - loss: 0.3050 - accuracy: 0.8612 - val_loss: 0.3613 - val_accuracy: 0.8336\n"
     ]
    }
   ],
   "source": [
    "history = model.fit(x_train, y_train, epochs=10, validation_data=(x_test, y_test))"
   ]
  },
  {
   "cell_type": "code",
   "execution_count": 9,
   "id": "146220a2",
   "metadata": {},
   "outputs": [
    {
     "name": "stdout",
     "output_type": "stream",
     "text": [
      "Keras weights file (<HDF5 file \"variables.h5\" (mode r+)>) saving:\n",
      "...layers\\conv2d\n",
      "......vars\n",
      ".........0\n",
      ".........1\n",
      "...layers\\conv2d_1\n",
      "......vars\n",
      ".........0\n",
      ".........1\n",
      "...layers\\conv2d_2\n",
      "......vars\n",
      ".........0\n",
      ".........1\n",
      "...layers\\dense\n",
      "......vars\n",
      ".........0\n",
      ".........1\n",
      "...layers\\dense_1\n",
      "......vars\n",
      ".........0\n",
      ".........1\n",
      "...layers\\dense_2\n",
      "......vars\n",
      ".........0\n",
      ".........1\n",
      "...layers\\dropout\n",
      "......vars\n",
      "...layers\\dropout_1\n",
      "......vars\n",
      "...layers\\flatten\n",
      "......vars\n",
      "...layers\\max_pooling2d\n",
      "......vars\n",
      "...layers\\max_pooling2d_1\n",
      "......vars\n",
      "...metrics\\mean\n",
      "......vars\n",
      ".........0\n",
      ".........1\n",
      "...metrics\\mean_metric_wrapper\n",
      "......vars\n",
      ".........0\n",
      ".........1\n",
      "...optimizer\n",
      "......vars\n",
      ".........0\n",
      ".........1\n",
      ".........10\n",
      ".........11\n",
      ".........12\n",
      ".........13\n",
      ".........14\n",
      ".........15\n",
      ".........16\n",
      ".........17\n",
      ".........18\n",
      ".........19\n",
      ".........2\n",
      ".........20\n",
      ".........21\n",
      ".........22\n",
      ".........23\n",
      ".........24\n",
      ".........3\n",
      ".........4\n",
      ".........5\n",
      ".........6\n",
      ".........7\n",
      ".........8\n",
      ".........9\n",
      "...vars\n",
      "Keras model archive saving:\n",
      "File Name                                             Modified             Size\n",
      "config.json                                    2023-01-06 01:11:34         4591\n",
      "metadata.json                                  2023-01-06 01:11:34           64\n",
      "variables.h5                                   2023-01-06 01:11:34     44184656\n"
     ]
    }
   ],
   "source": [
    "import pickle\n",
    "#save model\n",
    "pickle.dump(model,open(\"CNN_color.dat\",\"wb\"))  "
   ]
  },
  {
   "cell_type": "code",
   "execution_count": 1,
   "id": "d696e243",
   "metadata": {},
   "outputs": [
    {
     "ename": "NameError",
     "evalue": "name 'plt' is not defined",
     "output_type": "error",
     "traceback": [
      "\u001b[1;31m---------------------------------------------------------------------------\u001b[0m",
      "\u001b[1;31mNameError\u001b[0m                                 Traceback (most recent call last)",
      "Input \u001b[1;32mIn [1]\u001b[0m, in \u001b[0;36m<cell line: 1>\u001b[1;34m()\u001b[0m\n\u001b[1;32m----> 1\u001b[0m \u001b[43mplt\u001b[49m\u001b[38;5;241m.\u001b[39mplot(history\u001b[38;5;241m.\u001b[39mhistory[\u001b[38;5;124m'\u001b[39m\u001b[38;5;124maccuracy\u001b[39m\u001b[38;5;124m'\u001b[39m], label\u001b[38;5;241m=\u001b[39m\u001b[38;5;124m'\u001b[39m\u001b[38;5;124maccuracy\u001b[39m\u001b[38;5;124m'\u001b[39m)\n\u001b[0;32m      2\u001b[0m plt\u001b[38;5;241m.\u001b[39mplot(history\u001b[38;5;241m.\u001b[39mhistory[\u001b[38;5;124m'\u001b[39m\u001b[38;5;124mval_accuracy\u001b[39m\u001b[38;5;124m'\u001b[39m], label\u001b[38;5;241m=\u001b[39m\u001b[38;5;124m'\u001b[39m\u001b[38;5;124mval_accuracy\u001b[39m\u001b[38;5;124m'\u001b[39m)\n\u001b[0;32m      3\u001b[0m plt\u001b[38;5;241m.\u001b[39mxlabel(\u001b[38;5;124m'\u001b[39m\u001b[38;5;124mEpoch\u001b[39m\u001b[38;5;124m'\u001b[39m)\n",
      "\u001b[1;31mNameError\u001b[0m: name 'plt' is not defined"
     ]
    }
   ],
   "source": [
    "plt.plot(history.history['accuracy'], label='accuracy')\n",
    "plt.plot(history.history['val_accuracy'], label='val_accuracy')\n",
    "plt.xlabel('Epoch')\n",
    "plt.ylabel('Accuracy')\n",
    "plt.ylim([0.2, 1])\n",
    "plt.legend(loc='lower right')\n",
    "plt.show()\n",
    "test_loss, test_acc = model.evaluate(x_test,y_test, verbose=2)\n",
    "plt.savefig(\"./B2_accuracy.jpg\") "
   ]
  },
  {
   "cell_type": "code",
   "execution_count": null,
   "id": "7a883f4b",
   "metadata": {},
   "outputs": [],
   "source": []
  }
 ],
 "metadata": {
  "kernelspec": {
   "display_name": "Python 3 (ipykernel)",
   "language": "python",
   "name": "python3"
  },
  "language_info": {
   "codemirror_mode": {
    "name": "ipython",
    "version": 3
   },
   "file_extension": ".py",
   "mimetype": "text/x-python",
   "name": "python",
   "nbconvert_exporter": "python",
   "pygments_lexer": "ipython3",
   "version": "3.9.12"
  }
 },
 "nbformat": 4,
 "nbformat_minor": 5
}
