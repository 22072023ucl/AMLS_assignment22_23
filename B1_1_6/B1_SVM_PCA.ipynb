{
 "cells": [
  {
   "cell_type": "code",
   "execution_count": 19,
   "id": "6585a2a7",
   "metadata": {},
   "outputs": [],
   "source": [
    "import matplotlib.pyplot as plt\n",
    "import matplotlib.image as mpimg\n",
    "import numpy as np\n",
    "import cv2\n",
    "import pandas as pd\n",
    "from sklearn.decomposition import PCA\n",
    "from sklearn.preprocessing import StandardScaler\n",
    "from sklearn.metrics import confusion_matrix, classification_report,accuracy_score\n",
    "import pickle\n",
    "from sklearn.svm import SVC"
   ]
  },
  {
   "cell_type": "code",
   "execution_count": 20,
   "id": "2f81743d",
   "metadata": {},
   "outputs": [],
   "source": [
    "#this function load the RGB image and change to gray inage, change the 2D image data to 1D and form a matrix\n",
    "def load_image_to_vector(image_path,image_number):\n",
    "    img_data=[]\n",
    "    for i in range (image_number):\n",
    "        img_color= mpimg.imread(image_path + str(i) + '.png')\n",
    "        img_color=cv2.resize(img_color,(100,100))\n",
    "        img=cv2.cvtColor(img_color,cv2.COLOR_BGR2GRAY)\n",
    "        img_vector=img.reshape(10000)\n",
    "        img_data.append(img_vector)\n",
    "    return img_data"
   ]
  },
  {
   "cell_type": "code",
   "execution_count": 21,
   "id": "23cc700c",
   "metadata": {},
   "outputs": [],
   "source": [
    "#PCA is used for dimensionality reduction\n",
    "def img_data_pca(img_data,dimention):\n",
    "    pca = PCA(n_components = 100)\n",
    "    pca.fit(img_data)\n",
    "    pca_data=pca.transform(img_data)\n",
    "    return pca_data"
   ]
  },
  {
   "cell_type": "code",
   "execution_count": 22,
   "id": "b568f75c",
   "metadata": {},
   "outputs": [],
   "source": [
    "def get_label(label_path,label_name):\n",
    "    label=pd.read_table(label_path)\n",
    "    y=label[label_name]\n",
    "    return y"
   ]
  },
  {
   "cell_type": "code",
   "execution_count": 23,
   "id": "767e0628",
   "metadata": {},
   "outputs": [],
   "source": [
    "def SVM_model(x_train,y_train,x_test,y_test):\n",
    "    clf=SVC(gamma='auto')\n",
    "    clf.fit(x_train,y_train)\n",
    "    y_pred =  clf.predict(x_test)\n",
    "    print('Accuracy on train set:'+str(clf.score(x_train,y_train)))\n",
    "    print('Accuracy on test set: '+str(accuracy_score(y_test,y_pred)))\n",
    "    print(classification_report(y_test,y_pred))\n",
    "    return clf"
   ]
  },
  {
   "cell_type": "code",
   "execution_count": 25,
   "id": "f343220b",
   "metadata": {},
   "outputs": [
    {
     "name": "stdout",
     "output_type": "stream",
     "text": [
      "Accuracy on train set:0.9966\n",
      "Accuracy on test set: 0.3456\n",
      "              precision    recall  f1-score   support\n",
      "\n",
      "           0       0.15      0.18      0.16       500\n",
      "           1       0.26      0.25      0.26       500\n",
      "           2       0.94      0.78      0.85       500\n",
      "           3       0.14      0.14      0.14       500\n",
      "           4       0.36      0.38      0.37       500\n",
      "\n",
      "    accuracy                           0.35      2500\n",
      "   macro avg       0.37      0.35      0.36      2500\n",
      "weighted avg       0.37      0.35      0.36      2500\n",
      "\n"
     ]
    }
   ],
   "source": [
    "#get image data\n",
    "img_data_train=load_image_to_vector('../datasets/cartoon_set/img/',5000)\n",
    "img_data_test=load_image_to_vector('../datasets/cartoon_set_test/img/',2500)\n",
    "#pca for image data\n",
    "x_train=img_data_pca(img_data_train,100)\n",
    "x_test=img_data_pca(img_data_test,100)\n",
    "#get label\n",
    "y_train=get_label('../datasets/cartoon_set/labels.csv','face_shape')\n",
    "y_train=y_train[:5000]\n",
    "y_test=get_label('../datasets/cartoon_set_test/labels.csv','face_shape')\n",
    "#Standardize the data\n",
    "x_train = StandardScaler().fit_transform(x_train)\n",
    "x_test = StandardScaler().fit_transform(x_test)\n",
    "#train the model and report accuracy\n",
    "model=SVM_model(x_train,y_train,x_test,y_test)\n",
    "#save model\n",
    "pickle.dump(model,open(\"SVM_shape.dat\",\"wb\")) "
   ]
  },
  {
   "cell_type": "code",
   "execution_count": null,
   "id": "33b9c535",
   "metadata": {},
   "outputs": [],
   "source": [
    "   \n",
    "    \n",
    "    \n",
    "       "
   ]
  }
 ],
 "metadata": {
  "kernelspec": {
   "display_name": "Python 3 (ipykernel)",
   "language": "python",
   "name": "python3"
  },
  "language_info": {
   "codemirror_mode": {
    "name": "ipython",
    "version": 3
   },
   "file_extension": ".py",
   "mimetype": "text/x-python",
   "name": "python",
   "nbconvert_exporter": "python",
   "pygments_lexer": "ipython3",
   "version": "3.9.12"
  }
 },
 "nbformat": 4,
 "nbformat_minor": 5
}
