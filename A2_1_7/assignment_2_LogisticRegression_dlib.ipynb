{
 "cells": [
  {
   "cell_type": "code",
   "execution_count": 12,
   "id": "46700d31",
   "metadata": {},
   "outputs": [],
   "source": [
    "import dlib\n",
    "import matplotlib.pyplot as plt\n",
    "import matplotlib.image as mpimg\n",
    "import numpy as np\n",
    "import cv2\n",
    "import pandas as pd\n",
    "from sklearn.decomposition import PCA\n",
    "from sklearn.model_selection import train_test_split\n",
    "from sklearn.preprocessing import MinMaxScaler\n",
    "from sklearn.linear_model import LogisticRegression\n",
    "from sklearn.metrics import confusion_matrix, classification_report,accuracy_score\n",
    "from sklearn.linear_model import LogisticRegressionCV"
   ]
  },
  {
   "cell_type": "code",
   "execution_count": 9,
   "id": "bf0dc686",
   "metadata": {},
   "outputs": [],
   "source": [
    "predictor_path = \"./shape_predictor_68_face_landmarks.dat\"\n",
    "face_rec_model_path = \"./dlib_face_recognition_resnet_model_v1.dat\"\n",
    " \n",
    "detector = dlib.get_frontal_face_detector() #a detector to find the faces\n",
    "sp = dlib.shape_predictor(predictor_path ) #shape predictor to find face landmarks\n",
    "facerec = dlib.face_recognition_model_v1(face_rec_model_path) #face recognition model\n",
    "img_data=np.zeros((5000,128))"
   ]
  },
  {
   "cell_type": "code",
   "execution_count": 1,
   "id": "1450e3d3",
   "metadata": {},
   "outputs": [
    {
     "ename": "NameError",
     "evalue": "name 'dlib' is not defined",
     "output_type": "error",
     "traceback": [
      "\u001b[1;31m---------------------------------------------------------------------------\u001b[0m",
      "\u001b[1;31mNameError\u001b[0m                                 Traceback (most recent call last)",
      "Input \u001b[1;32mIn [1]\u001b[0m, in \u001b[0;36m<cell line: 1>\u001b[1;34m()\u001b[0m\n\u001b[0;32m      1\u001b[0m \u001b[38;5;28;01mfor\u001b[39;00m i \u001b[38;5;129;01min\u001b[39;00m \u001b[38;5;28mrange\u001b[39m (\u001b[38;5;241m5000\u001b[39m):\n\u001b[1;32m----> 2\u001b[0m     img \u001b[38;5;241m=\u001b[39m \u001b[43mdlib\u001b[49m\u001b[38;5;241m.\u001b[39mload_rgb_image(\u001b[38;5;124m'\u001b[39m\u001b[38;5;124m../datasets/celeba/img/\u001b[39m\u001b[38;5;124m'\u001b[39m \u001b[38;5;241m+\u001b[39m \u001b[38;5;28mstr\u001b[39m(i) \u001b[38;5;241m+\u001b[39m \u001b[38;5;124m'\u001b[39m\u001b[38;5;124m.jpg\u001b[39m\u001b[38;5;124m'\u001b[39m)\n\u001b[0;32m      3\u001b[0m     dets \u001b[38;5;241m=\u001b[39m detector(img, \u001b[38;5;241m1\u001b[39m)  \u001b[38;5;66;03m#Extract the face area in the picture\u001b[39;00m\n\u001b[0;32m      4\u001b[0m     \u001b[38;5;28;01mfor\u001b[39;00m k, d \u001b[38;5;129;01min\u001b[39;00m \u001b[38;5;28menumerate\u001b[39m(dets):\n",
      "\u001b[1;31mNameError\u001b[0m: name 'dlib' is not defined"
     ]
    }
   ],
   "source": [
    "for i in range (5000):\n",
    "    img = dlib.load_rgb_image('../datasets/celeba/img/' + str(i) + '.jpg')\n",
    "    dets = detector(img, 1)  #Extract the face area in the picture\n",
    "    for k, d in enumerate(dets):\n",
    "        shape = sp(img, d)\n",
    "        face_descriptor = facerec.compute_face_descriptor(img, shape)\n",
    "        img_data[i,:]=face_descriptor"
   ]
  },
  {
   "cell_type": "code",
   "execution_count": 18,
   "id": "241a9bc3",
   "metadata": {},
   "outputs": [],
   "source": [
    "label=pd.read_table('../datasets/celeba/labels.csv')"
   ]
  },
  {
   "cell_type": "code",
   "execution_count": 20,
   "id": "527fe1bd",
   "metadata": {},
   "outputs": [
    {
     "name": "stdout",
     "output_type": "stream",
     "text": [
      "[[-0.11575226  0.13944775  0.04134562 ... -0.06901028  0.08327678\n",
      "   0.00861722]\n",
      " [-0.11231291  0.03962129  0.04105864 ... -0.00192231  0.02313073\n",
      "  -0.01509616]\n",
      " [ 0.          0.          0.         ...  0.          0.\n",
      "   0.        ]\n",
      " ...\n",
      " [ 0.00168826 -0.0081973   0.00677922 ... -0.0436994   0.09507341\n",
      "   0.0518407 ]\n",
      " [-0.14209679  0.04581597  0.08493239 ... -0.07254556  0.02568161\n",
      "  -0.00020073]\n",
      " [-0.04625478  0.14262904  0.11789934 ... -0.09501354  0.06680886\n",
      "   0.04954072]]\n",
      "(5000, 128)\n"
     ]
    }
   ],
   "source": [
    "x = pd.read_csv('./face feature.csv')\n",
    "x=np.array(x)\n",
    "x=x[:,1:]\n",
    "print(x)\n",
    "print(np.shape(x))"
   ]
  },
  {
   "cell_type": "code",
   "execution_count": 21,
   "id": "5a7c4733",
   "metadata": {},
   "outputs": [],
   "source": [
    "# Split the data\n",
    "#x=img_data\n",
    "y = label['smiling']\n",
    "\n",
    "# Split the data into training and testing(75% training and 25% testing data)\n",
    "x_train, x_test, y_train, y_test = train_test_split(x, y,random_state=0)# Pre-process data\n",
    "from sklearn.preprocessing import StandardScaler\n",
    "x_train = StandardScaler().fit_transform(x_train)\n",
    "x_test = StandardScaler().fit_transform(x_test)"
   ]
  },
  {
   "cell_type": "code",
   "execution_count": 22,
   "id": "319e76b5",
   "metadata": {},
   "outputs": [
    {
     "name": "stdout",
     "output_type": "stream",
     "text": [
      "Accuracy on train set:0.6624\n",
      "Accuracy on test set: 0.6256\n",
      "              precision    recall  f1-score   support\n",
      "\n",
      "          -1       0.64      0.61      0.62       639\n",
      "           1       0.61      0.64      0.63       611\n",
      "\n",
      "    accuracy                           0.63      1250\n",
      "   macro avg       0.63      0.63      0.63      1250\n",
      "weighted avg       0.63      0.63      0.63      1250\n",
      "\n"
     ]
    }
   ],
   "source": [
    "logreg = LogisticRegression(solver='lbfgs',max_iter=1000)\n",
    "logreg.fit(x_train, y_train)\n",
    "y_pred= logreg.predict(x_test)\n",
    "print('Accuracy on train set:'+str(logreg.score(x_train,y_train)))\n",
    "print('Accuracy on test set: '+str(accuracy_score(y_test,y_pred)))\n",
    "print(classification_report(y_test,y_pred))#text report showing the main classification metrics"
   ]
  },
  {
   "cell_type": "code",
   "execution_count": 23,
   "id": "2009b183",
   "metadata": {},
   "outputs": [],
   "source": [
    "import pickle\n",
    "\n",
    "\n",
    "pickle.dump(logreg,open(\"LogisticRegression_smiling_dlib.dat\",\"wb\")) \n",
    "\n",
    "\n",
    "loaded_model = pickle.load(open(\"LogisticRegression_smiling_dlib.dat\",\"rb\"))\n",
    "\n",
    "\n",
    "y_pred=loaded_model.predict(x_test)"
   ]
  },
  {
   "cell_type": "code",
   "execution_count": null,
   "id": "2ceebdb6",
   "metadata": {},
   "outputs": [],
   "source": []
  }
 ],
 "metadata": {
  "kernelspec": {
   "display_name": "Python 3 (ipykernel)",
   "language": "python",
   "name": "python3"
  },
  "language_info": {
   "codemirror_mode": {
    "name": "ipython",
    "version": 3
   },
   "file_extension": ".py",
   "mimetype": "text/x-python",
   "name": "python",
   "nbconvert_exporter": "python",
   "pygments_lexer": "ipython3",
   "version": "3.9.12"
  }
 },
 "nbformat": 4,
 "nbformat_minor": 5
}
