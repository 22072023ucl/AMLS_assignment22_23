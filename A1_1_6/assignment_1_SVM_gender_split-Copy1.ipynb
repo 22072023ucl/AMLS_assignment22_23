{
 "cells": [
  {
   "cell_type": "code",
   "execution_count": 6,
   "id": "7fdcf001",
   "metadata": {},
   "outputs": [],
   "source": [
    "import matplotlib.pyplot as plt\n",
    "import matplotlib.image as mpimg\n",
    "import numpy as np\n",
    "import cv2\n",
    "import pandas as pd\n",
    "import numpy as np\n",
    "from sklearn.decomposition import PCA\n",
    "from sklearn.preprocessing import MinMaxScaler\n",
    "import matplotlib.pyplot as plt\n",
    "from sklearn.svm import SVC\n",
    "from sklearn.model_selection import train_test_split\n",
    "from sklearn.metrics import accuracy_score\n",
    "from sklearn.pipeline import make_pipeline\n",
    "from sklearn.preprocessing import StandardScaler\n",
    "\n",
    "#read one img to get size\n",
    "img_0 = mpimg.imread('../datasets/celeba/img/0.jpg')\n",
    "img_shape=np.shape(img_0)\n",
    "img_data=np.zeros((5000,img_shape[0]*img_shape[1]))\n",
    "for i in range (5000):\n",
    "    img = mpimg.imread('../datasets/celeba/img/' + str(i) + '.jpg')\n",
    "    img=cv2.cvtColor(img,cv2.COLOR_BGR2GRAY)\n",
    "    img_vector=img.reshape(1,img_shape[0]*img_shape[1])\n",
    "    img_data[i,:]=img_vector"
   ]
  },
  {
   "cell_type": "code",
   "execution_count": 7,
   "id": "420d2879",
   "metadata": {},
   "outputs": [],
   "source": [
    "label=pd.read_table('../datasets/celeba/labels.csv')"
   ]
  },
  {
   "cell_type": "code",
   "execution_count": 8,
   "id": "3eb16df6",
   "metadata": {},
   "outputs": [],
   "source": [
    "pca = PCA(n_components = 100)\n",
    "pca.fit(img_data)\n",
    "pca_data=pca.transform(img_data)"
   ]
  },
  {
   "cell_type": "code",
   "execution_count": 9,
   "id": "052fcd89",
   "metadata": {},
   "outputs": [],
   "source": [
    "# Split the data\n",
    "x = pca_data\n",
    "y = label['gender']\n",
    "\n",
    "# Split the data into training and testing(75% training and 25% testing data)\n",
    "x_train, x_test, y_train, y_test = train_test_split(x, y, random_state = 0, test_size = 0.25)\n"
   ]
  },
  {
   "cell_type": "code",
   "execution_count": 10,
   "id": "a9607897",
   "metadata": {},
   "outputs": [],
   "source": [
    "clf=make_pipeline(StandardScaler(),SVC(gamma='auto'))\n",
    "clf.fit(x_train,y_train)\n",
    "y_pred =  clf.predict(x_test)"
   ]
  },
  {
   "cell_type": "code",
   "execution_count": 11,
   "id": "76fd5490",
   "metadata": {},
   "outputs": [
    {
     "name": "stdout",
     "output_type": "stream",
     "text": [
      "Accuracy Score on train data:  0.9538666666666666\n",
      "Accuracy Score on test data:  0.8352\n"
     ]
    }
   ],
   "source": [
    "print('Accuracy Score on train data: ', accuracy_score(y_true=y_train, y_pred=clf.predict(x_train)))\n",
    "print('Accuracy Score on test data: ', accuracy_score(y_true=y_test, y_pred=y_pred))"
   ]
  },
  {
   "cell_type": "code",
   "execution_count": 12,
   "id": "f741dddf",
   "metadata": {},
   "outputs": [],
   "source": [
    "import pickle\n",
    "\n",
    "#save model\n",
    "pickle.dump(clf,open(\"SVM_gender_split.dat\",\"wb\"))  \n",
    "\n",
    "# load model\n",
    "loaded_model = pickle.load(open(\"SVM_gender_split.dat\",\"rb\"))\n",
    "\n",
    "\n",
    "y_pred=loaded_model.predict(x_test)"
   ]
  },
  {
   "cell_type": "code",
   "execution_count": null,
   "id": "f30af222",
   "metadata": {},
   "outputs": [],
   "source": []
  }
 ],
 "metadata": {
  "kernelspec": {
   "display_name": "Python 3 (ipykernel)",
   "language": "python",
   "name": "python3"
  },
  "language_info": {
   "codemirror_mode": {
    "name": "ipython",
    "version": 3
   },
   "file_extension": ".py",
   "mimetype": "text/x-python",
   "name": "python",
   "nbconvert_exporter": "python",
   "pygments_lexer": "ipython3",
   "version": "3.9.12"
  }
 },
 "nbformat": 4,
 "nbformat_minor": 5
}
