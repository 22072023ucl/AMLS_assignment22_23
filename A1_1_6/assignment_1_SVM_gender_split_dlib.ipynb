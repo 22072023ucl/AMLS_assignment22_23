{
 "cells": [
  {
   "cell_type": "code",
   "execution_count": 1,
   "id": "0cb0c0ce",
   "metadata": {},
   "outputs": [],
   "source": [
    "import dlib\n",
    "import matplotlib.pyplot as plt\n",
    "import matplotlib.image as mpimg\n",
    "import numpy as np\n",
    "import cv2\n",
    "import pandas as pd\n",
    "import numpy as np\n",
    "from sklearn.decomposition import PCA\n",
    "from sklearn.preprocessing import MinMaxScaler\n",
    "import matplotlib.pyplot as plt\n",
    "from sklearn.svm import SVC\n",
    "from sklearn.model_selection import train_test_split\n",
    "from sklearn.metrics import accuracy_score"
   ]
  },
  {
   "cell_type": "code",
   "execution_count": 2,
   "id": "690490e6",
   "metadata": {},
   "outputs": [],
   "source": [
    "predictor_path = \"./shape_predictor_68_face_landmarks.dat\"\n",
    "face_rec_model_path = \"./dlib_face_recognition_resnet_model_v1.dat\"\n",
    " \n",
    "detector = dlib.get_frontal_face_detector() #a detector to find the faces\n",
    "sp = dlib.shape_predictor(predictor_path ) #shape predictor to find face landmarks\n",
    "facerec = dlib.face_recognition_model_v1(face_rec_model_path) #face recognition model\n",
    "img_data=np.zeros((5000,128))"
   ]
  },
  {
   "cell_type": "code",
   "execution_count": 3,
   "id": "907e7943",
   "metadata": {},
   "outputs": [],
   "source": [
    "for i in range (5000):\n",
    "    img = dlib.load_rgb_image('../datasets/celeba/img/' + str(i) + '.jpg')\n",
    "    dets = detector(img, 1)  #Extract the face area in the picture\n",
    "    for k, d in enumerate(dets):\n",
    "        shape = sp(img, d)\n",
    "        face_descriptor = facerec.compute_face_descriptor(img, shape)\n",
    "        img_data[i,:]=face_descriptor"
   ]
  },
  {
   "cell_type": "code",
   "execution_count": 19,
   "id": "659740e8",
   "metadata": {},
   "outputs": [],
   "source": [
    "import pandas as pd\n",
    "img_data = pd.DataFrame(img_data)\n",
    "img_data.to_csv('face feature.csv')"
   ]
  },
  {
   "cell_type": "code",
   "execution_count": 7,
   "id": "e678f16e",
   "metadata": {},
   "outputs": [],
   "source": [
    "label=pd.read_table('../datasets/celeba/labels.csv')"
   ]
  },
  {
   "cell_type": "code",
   "execution_count": 8,
   "id": "9ebae953",
   "metadata": {},
   "outputs": [],
   "source": [
    "# Split the data\n",
    "x = img_data\n",
    "y = label['gender']\n",
    "\n",
    "# Split the data into training and testing(75% training and 25% testing data)\n",
    "x_train, x_test, y_train, y_test = train_test_split(x, y,random_state=0)# Pre-process data\n",
    "from sklearn.preprocessing import StandardScaler\n",
    "x_train = StandardScaler().fit_transform(x_train)\n",
    "x_test = StandardScaler().fit_transform(x_test)"
   ]
  },
  {
   "cell_type": "code",
   "execution_count": 9,
   "id": "8470ceee",
   "metadata": {},
   "outputs": [],
   "source": [
    "clf=SVC(gamma='auto')\n",
    "clf.fit(x_train,y_train)\n",
    "y_pred =  clf.predict(x_test)"
   ]
  },
  {
   "cell_type": "code",
   "execution_count": 10,
   "id": "816f4757",
   "metadata": {},
   "outputs": [
    {
     "name": "stdout",
     "output_type": "stream",
     "text": [
      "Accuracy Score on train data:  0.9797333333333333\n",
      "Accuracy Score on test data:  0.9728\n"
     ]
    }
   ],
   "source": [
    "print('Accuracy Score on train data: ', accuracy_score(y_true=y_train, y_pred=clf.predict(x_train)))\n",
    "print('Accuracy Score on test data: ', accuracy_score(y_true=y_test, y_pred=y_pred))"
   ]
  },
  {
   "cell_type": "code",
   "execution_count": 11,
   "id": "f29937ec",
   "metadata": {},
   "outputs": [],
   "source": [
    "import pickle\n",
    "\n",
    "#save model\n",
    "pickle.dump(clf,open(\"SVM_gender_split_dlib.dat\",\"wb\"))  \n",
    "\n",
    "# load model\n",
    "loaded_model = pickle.load(open(\"SVM_gender_split_dlib.dat\",\"rb\"))\n",
    "\n",
    "y_pred=loaded_model.predict(x_test)"
   ]
  },
  {
   "cell_type": "code",
   "execution_count": null,
   "id": "f762e9fd",
   "metadata": {},
   "outputs": [],
   "source": []
  }
 ],
 "metadata": {
  "kernelspec": {
   "display_name": "Python 3 (ipykernel)",
   "language": "python",
   "name": "python3"
  },
  "language_info": {
   "codemirror_mode": {
    "name": "ipython",
    "version": 3
   },
   "file_extension": ".py",
   "mimetype": "text/x-python",
   "name": "python",
   "nbconvert_exporter": "python",
   "pygments_lexer": "ipython3",
   "version": "3.9.12"
  }
 },
 "nbformat": 4,
 "nbformat_minor": 5
}
