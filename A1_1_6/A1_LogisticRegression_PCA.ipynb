{
 "cells": [
  {
   "cell_type": "code",
   "execution_count": 24,
   "id": "46700d31",
   "metadata": {},
   "outputs": [],
   "source": [
    "import matplotlib.pyplot as plt\n",
    "import matplotlib.image as mpimg\n",
    "import numpy as np\n",
    "import cv2\n",
    "import pandas as pd\n",
    "from sklearn.decomposition import PCA\n",
    "from sklearn.preprocessing import StandardScaler\n",
    "from sklearn.linear_model import LogisticRegression\n",
    "from sklearn.metrics import confusion_matrix, classification_report,accuracy_score\n",
    "import pickle"
   ]
  },
  {
   "cell_type": "code",
   "execution_count": 25,
   "id": "1deeac01",
   "metadata": {},
   "outputs": [],
   "source": [
    "#this function load the RGB image and change to gray inage, change the 2D image data to 1D and form a matrix\n",
    "def load_image_to_vector(image_path,image_number):\n",
    "    img_data=[]\n",
    "    for i in range (image_number):\n",
    "        img_color= mpimg.imread(image_path + str(i) + '.jpg')\n",
    "        img=cv2.cvtColor(img_color,cv2.COLOR_BGR2GRAY)\n",
    "        width=np.shape(img_color)[0]\n",
    "        height=np.shape(img_color)[1]\n",
    "        img_vector=img.reshape(width*height)\n",
    "        img_data.append(img_vector)\n",
    "    return img_data"
   ]
  },
  {
   "cell_type": "code",
   "execution_count": 31,
   "id": "5a7c4733",
   "metadata": {},
   "outputs": [],
   "source": [
    "#PCA is used for dimensionality reduction\n",
    "def img_data_pca(img_data,dimention):\n",
    "    pca = PCA(n_components = 100)\n",
    "    pca.fit(img_data)\n",
    "    pca_data=pca.transform(img_data)\n",
    "    return pca_data"
   ]
  },
  {
   "cell_type": "code",
   "execution_count": 27,
   "id": "b368f673",
   "metadata": {},
   "outputs": [],
   "source": [
    "def get_label(label_path,label_name):\n",
    "    label=pd.read_table(label_path)\n",
    "    y=label[label_name]\n",
    "    return y"
   ]
  },
  {
   "cell_type": "code",
   "execution_count": 37,
   "id": "810d93ae",
   "metadata": {},
   "outputs": [],
   "source": [
    "def LogisticRegression_model(x_train,y_train,x_test,y_test):\n",
    "    clf = LogisticRegression(solver='lbfgs',fit_intercept=True,max_iter=1000)\n",
    "    clf.fit(x_train, y_train)\n",
    "    y_pred = clf.predict(x_test)\n",
    "    print('Accuracy on train set:'+str(clf.score(x_train,y_train)))\n",
    "    print('Accuracy on test set: '+str(accuracy_score(y_test,y_pred)))\n",
    "    print(classification_report(y_test,y_pred))\n",
    "    return clf"
   ]
  },
  {
   "cell_type": "code",
   "execution_count": 39,
   "id": "94e7a469",
   "metadata": {},
   "outputs": [
    {
     "name": "stdout",
     "output_type": "stream",
     "text": [
      "Accuracy on train set:0.8062\n",
      "Accuracy on test set: 0.626\n",
      "              precision    recall  f1-score   support\n",
      "\n",
      "          -1       0.63      0.62      0.62       500\n",
      "           1       0.62      0.63      0.63       500\n",
      "\n",
      "    accuracy                           0.63      1000\n",
      "   macro avg       0.63      0.63      0.63      1000\n",
      "weighted avg       0.63      0.63      0.63      1000\n",
      "\n"
     ]
    }
   ],
   "source": [
    "#get image data\n",
    "img_data_train=load_image_to_vector('../datasets/celeba/img/',5000)\n",
    "img_data_test=load_image_to_vector('../datasets/celeba_test/img/',1000)\n",
    "#pca for image data\n",
    "x_train=img_data_pca(img_data_train,100)\n",
    "x_test=img_data_pca(img_data_test,100)\n",
    "#get label\n",
    "y_train=get_label('../datasets/celeba/labels.csv','gender')\n",
    "y_test=get_label('../datasets/celeba_test/labels.csv','gender')\n",
    "#Standardize the data\n",
    "x_train = StandardScaler().fit_transform(x_train)\n",
    "x_test = StandardScaler().fit_transform(x_test)\n",
    "#train the model and report accuracy\n",
    "model=LogisticRegression_model(x_train,y_train,x_test,y_test)\n",
    "#save model\n",
    "pickle.dump(model,open(\"LogisticRegression_gender.dat\",\"wb\")) "
   ]
  },
  {
   "cell_type": "code",
   "execution_count": 9,
   "id": "db7a3efc",
   "metadata": {},
   "outputs": [],
   "source": [
    "#save model\n",
    "pickle.dump(logRegr,open(\"LogisticRegression_gender_separate.dat\",\"wb\"))  \n",
    "#load model\n",
    "loaded_model = pickle.load(open(\"LogisticRegression_gender_separate.dat\",\"rb\"))\n",
    "y_pred=loaded_model.predict(x_test)"
   ]
  }
 ],
 "metadata": {
  "kernelspec": {
   "display_name": "Python 3 (ipykernel)",
   "language": "python",
   "name": "python3"
  },
  "language_info": {
   "codemirror_mode": {
    "name": "ipython",
    "version": 3
   },
   "file_extension": ".py",
   "mimetype": "text/x-python",
   "name": "python",
   "nbconvert_exporter": "python",
   "pygments_lexer": "ipython3",
   "version": "3.9.12"
  }
 },
 "nbformat": 4,
 "nbformat_minor": 5
}
