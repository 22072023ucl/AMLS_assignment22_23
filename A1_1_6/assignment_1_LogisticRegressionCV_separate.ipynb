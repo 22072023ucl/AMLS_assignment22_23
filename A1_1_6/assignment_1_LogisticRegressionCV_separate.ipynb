{
 "cells": [
  {
   "cell_type": "code",
   "execution_count": 1,
   "id": "46700d31",
   "metadata": {},
   "outputs": [],
   "source": [
    "import matplotlib.pyplot as plt\n",
    "import matplotlib.image as mpimg\n",
    "import numpy as np\n",
    "import cv2\n",
    "import pandas as pd\n",
    "from sklearn.decomposition import PCA\n",
    "from sklearn.model_selection import train_test_split\n",
    "from sklearn.preprocessing import MinMaxScaler\n",
    "from sklearn.linear_model import LogisticRegression\n",
    "from sklearn.linear_model import LogisticRegressionCV\n",
    "from sklearn.metrics import confusion_matrix, classification_report,accuracy_score\n",
    " \n",
    "#read one img to get size\n",
    "img_0 = mpimg.imread('../datasets/celeba/img/0.jpg')\n",
    "img_shape=np.shape(img_0)\n",
    "img_data=np.zeros((5000,img_shape[0]*img_shape[1]))\n",
    "for i in range (5000):\n",
    "    img = mpimg.imread('../datasets/celeba/img/' + str(i) + '.jpg')\n",
    "    img=cv2.cvtColor(img,cv2.COLOR_BGR2GRAY)\n",
    "    img_vector=img.reshape(1,img_shape[0]*img_shape[1])\n",
    "    img_data[i,:]=img_vector"
   ]
  },
  {
   "cell_type": "code",
   "execution_count": 2,
   "id": "bf0dc686",
   "metadata": {},
   "outputs": [],
   "source": [
    "label=pd.read_table('../datasets/celeba/labels.csv')"
   ]
  },
  {
   "cell_type": "code",
   "execution_count": 3,
   "id": "5a7c4733",
   "metadata": {},
   "outputs": [],
   "source": [
    "#The dimension of PCA will impact the result but seems that a larger dimension does not guarantee a better result\n",
    "pca = PCA(n_components = 100)\n",
    "pca.fit(img_data)\n",
    "pca_data=pca.transform(img_data)"
   ]
  },
  {
   "cell_type": "code",
   "execution_count": 4,
   "id": "7c0b90ea",
   "metadata": {},
   "outputs": [],
   "source": [
    "#use separate test data\n",
    "#test image\n",
    "img_data_test=np.zeros((1000,img_shape[0]*img_shape[1]))\n",
    "for i in range (1000):\n",
    "    img_test = mpimg.imread('../datasets/celeba_test/img/' + str(i) + '.jpg')\n",
    "    img_test=cv2.cvtColor(img_test,cv2.COLOR_BGR2GRAY)\n",
    "    img_vector_test=img_test.reshape(1,img_shape[0]*img_shape[1])\n",
    "    img_data_test[i,:]=img_vector_test"
   ]
  },
  {
   "cell_type": "code",
   "execution_count": 5,
   "id": "88c13896",
   "metadata": {},
   "outputs": [],
   "source": [
    "#test label\n",
    "label_test=pd.read_table('../datasets/celeba_test/labels.csv')"
   ]
  },
  {
   "cell_type": "code",
   "execution_count": 6,
   "id": "3faae1c3",
   "metadata": {},
   "outputs": [],
   "source": [
    "# pca for test data\n",
    "pca = PCA(n_components = 100)\n",
    "pca.fit(img_data_test)\n",
    "pca_data_test=pca.transform(img_data_test)"
   ]
  },
  {
   "cell_type": "code",
   "execution_count": 7,
   "id": "b368f673",
   "metadata": {},
   "outputs": [],
   "source": [
    "x_train=pca_data\n",
    "y_train=label['gender']\n",
    "x_test=pca_data_test\n",
    "y_test=label_test['gender']\n",
    "\n",
    "from sklearn.preprocessing import StandardScaler\n",
    "x_train = StandardScaler().fit_transform(x_train)\n",
    "x_test = StandardScaler().fit_transform(x_test)"
   ]
  },
  {
   "cell_type": "code",
   "execution_count": 8,
   "id": "d1f0bcc9",
   "metadata": {},
   "outputs": [],
   "source": [
    "logregcv = LogisticRegressionCV(solver='lbfgs',cv=50,max_iter=1000)\n",
    "logregcv.fit(x_train, y_train)\n",
    "y_pred_cv= logregcv.predict(x_test)"
   ]
  },
  {
   "cell_type": "code",
   "execution_count": 9,
   "id": "806cc85a",
   "metadata": {},
   "outputs": [],
   "source": [
    "import pickle\n",
    "\n",
    "#save model\n",
    "pickle.dump(logregcv,open(\"LogisticRegressionCV_gender_separate.dat\",\"wb\"))  \n",
    "\n",
    "# load model\n",
    "loaded_model = pickle.load(open(\"LogisticRegressionCV_gender_separate.dat\",\"rb\"))\n",
    "\n",
    "\n",
    "y_pred=loaded_model.predict(x_test)\n"
   ]
  },
  {
   "cell_type": "code",
   "execution_count": 10,
   "id": "319e76b5",
   "metadata": {},
   "outputs": [
    {
     "name": "stdout",
     "output_type": "stream",
     "text": [
      "Accuracy on train set：0.804\n",
      "Accuracy on test set: 0.617\n",
      "              precision    recall  f1-score   support\n",
      "\n",
      "          -1       0.62      0.61      0.61       500\n",
      "           1       0.62      0.62      0.62       500\n",
      "\n",
      "    accuracy                           0.62      1000\n",
      "   macro avg       0.62      0.62      0.62      1000\n",
      "weighted avg       0.62      0.62      0.62      1000\n",
      "\n"
     ]
    }
   ],
   "source": [
    "print('Accuracy on train set：%.3f'% logregcv.score(x_train,y_train))\n",
    "print('Accuracy on test set: '+str(accuracy_score(y_test,y_pred)))\n",
    "print(classification_report(y_test,y_pred))#text report showing the main classification metrics"
   ]
  },
  {
   "cell_type": "code",
   "execution_count": null,
   "id": "8b95c098",
   "metadata": {},
   "outputs": [],
   "source": []
  }
 ],
 "metadata": {
  "kernelspec": {
   "display_name": "Python 3 (ipykernel)",
   "language": "python",
   "name": "python3"
  },
  "language_info": {
   "codemirror_mode": {
    "name": "ipython",
    "version": 3
   },
   "file_extension": ".py",
   "mimetype": "text/x-python",
   "name": "python",
   "nbconvert_exporter": "python",
   "pygments_lexer": "ipython3",
   "version": "3.9.12"
  }
 },
 "nbformat": 4,
 "nbformat_minor": 5
}
