{
 "cells": [
  {
   "cell_type": "code",
   "execution_count": 13,
   "id": "46700d31",
   "metadata": {},
   "outputs": [],
   "source": [
    "import matplotlib.pyplot as plt\n",
    "import matplotlib.image as mpimg\n",
    "import numpy as np\n",
    "import cv2\n",
    "import pandas as pd\n",
    "from sklearn.decomposition import PCA\n",
    "from sklearn.model_selection import train_test_split\n",
    "from sklearn.preprocessing import MinMaxScaler\n",
    "from sklearn.linear_model import LogisticRegression\n",
    "from sklearn.metrics import confusion_matrix, classification_report,accuracy_score\n",
    " \n",
    "#read one img to get size\n",
    "img_0 = mpimg.imread('../datasets/celeba/img/0.jpg')\n",
    "img_shape=np.shape(img_0)\n",
    "img_data=np.zeros((6000,img_shape[0]*img_shape[1]))\n",
    "for i in range (5000):\n",
    "    img = mpimg.imread('../datasets/celeba/img/' + str(i) + '.jpg')\n",
    "    img=cv2.cvtColor(img,cv2.COLOR_BGR2GRAY)\n",
    "    img_vector=img.reshape(1,img_shape[0]*img_shape[1])\n",
    "    img_data[i,:]=img_vector\n",
    "for i in range(1000):\n",
    "    img = mpimg.imread('../datasets/celeba_test/img/' + str(i) + '.jpg')\n",
    "    img=cv2.cvtColor(img,cv2.COLOR_BGR2GRAY)\n",
    "    img_vector=img.reshape(1,img_shape[0]*img_shape[1])\n",
    "    img_data[i+5000,:]=img_vector"
   ]
  },
  {
   "cell_type": "code",
   "execution_count": 14,
   "id": "bf0dc686",
   "metadata": {},
   "outputs": [],
   "source": [
    "label=pd.read_table('../datasets/celeba/labels.csv')"
   ]
  },
  {
   "cell_type": "code",
   "execution_count": 15,
   "id": "5a7c4733",
   "metadata": {},
   "outputs": [],
   "source": [
    "pca = PCA(n_components = 200)\n",
    "pca.fit(img_data)\n",
    "pca_data=pca.transform(img_data)"
   ]
  },
  {
   "cell_type": "code",
   "execution_count": 16,
   "id": "88c13896",
   "metadata": {},
   "outputs": [],
   "source": [
    "#test label\n",
    "label_test=pd.read_table('../datasets/celeba_test/labels.csv')\n",
    "#comobine the label\n",
    "y1 = label['smiling']\n",
    "y2=label_test['smiling']\n",
    "y1=np.array(y1)\n",
    "y2=np.array(y2)"
   ]
  },
  {
   "cell_type": "code",
   "execution_count": 17,
   "id": "c8f7f9e1",
   "metadata": {},
   "outputs": [],
   "source": [
    "# Split the data\n",
    "x = pca_data\n",
    "y=np.append(y1,y2)\n",
    "# Split the data into training and testing(75% training and 25% testing data)\n",
    "x_train, x_test, y_train, y_test = train_test_split(x, y,random_state=0)\n",
    "\n",
    "# Pre-process data\n",
    "scaler = MinMaxScaler() # This estimator scales and translates each feature individually such that it is in the given range on the training set, default between(0,1)\n",
    "x_train = scaler.fit_transform(x_train)\n",
    "x_test = scaler.transform(x_test)"
   ]
  },
  {
   "cell_type": "code",
   "execution_count": 18,
   "id": "319e76b5",
   "metadata": {},
   "outputs": [
    {
     "name": "stdout",
     "output_type": "stream",
     "text": [
      "Accuracy on the training set：0.883\n",
      "Accuracy on test set: 0.8693333333333333\n",
      "              precision    recall  f1-score   support\n",
      "\n",
      "          -1       0.85      0.89      0.87       753\n",
      "           1       0.89      0.84      0.87       747\n",
      "\n",
      "    accuracy                           0.87      1500\n",
      "   macro avg       0.87      0.87      0.87      1500\n",
      "weighted avg       0.87      0.87      0.87      1500\n",
      "\n"
     ]
    }
   ],
   "source": [
    "# sklearn functions implementation\n",
    "logreg = LogisticRegression(solver='lbfgs',max_iter=1000)\n",
    "    # Train the model using the training sets\n",
    "logreg.fit(x_train, y_train)\n",
    "y_pred= logreg.predict(x_test)\n",
    "    #print('Accuracy on test set: {:.2f}'.format(logreg.score(x_test, y_test)))\n",
    "print('Accuracy on the training set：%.3f'% logreg.score(x_train,y_train))\n",
    "print('Accuracy on test set: '+str(accuracy_score(y_test,y_pred)))\n",
    "print(classification_report(y_test,y_pred))#text report showing the main classification metrics"
   ]
  }
 ],
 "metadata": {
  "kernelspec": {
   "display_name": "Python 3 (ipykernel)",
   "language": "python",
   "name": "python3"
  },
  "language_info": {
   "codemirror_mode": {
    "name": "ipython",
    "version": 3
   },
   "file_extension": ".py",
   "mimetype": "text/x-python",
   "name": "python",
   "nbconvert_exporter": "python",
   "pygments_lexer": "ipython3",
   "version": "3.9.12"
  }
 },
 "nbformat": 4,
 "nbformat_minor": 5
}
