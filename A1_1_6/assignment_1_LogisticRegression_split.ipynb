{
 "cells": [
  {
   "cell_type": "code",
   "execution_count": 9,
   "id": "46700d31",
   "metadata": {},
   "outputs": [],
   "source": [
    "import matplotlib.pyplot as plt\n",
    "import matplotlib.image as mpimg\n",
    "import numpy as np\n",
    "import cv2\n",
    "import pandas as pd\n",
    "from sklearn.decomposition import PCA\n",
    "from sklearn.model_selection import train_test_split\n",
    "from sklearn.preprocessing import MinMaxScaler\n",
    "from sklearn.linear_model import LogisticRegression\n",
    "from sklearn.metrics import confusion_matrix, classification_report,accuracy_score\n",
    "from sklearn.linear_model import LogisticRegressionCV\n",
    "\n",
    "#read one img to get size\n",
    "img_0 = mpimg.imread('../datasets/celeba/img/0.jpg')\n",
    "img_shape=np.shape(img_0)\n",
    "img_data=np.zeros((5000,img_shape[0]*img_shape[1]))\n",
    "for i in range (5000):\n",
    "    img = mpimg.imread('../datasets/celeba/img/' + str(i) + '.jpg')\n",
    "    img=cv2.cvtColor(img,cv2.COLOR_BGR2GRAY)\n",
    "    img_vector=img.reshape(1,img_shape[0]*img_shape[1])\n",
    "    img_data[i,:]=img_vector"
   ]
  },
  {
   "cell_type": "code",
   "execution_count": 10,
   "id": "bf0dc686",
   "metadata": {},
   "outputs": [],
   "source": [
    "label=pd.read_table('../datasets/celeba/labels.csv')"
   ]
  },
  {
   "cell_type": "code",
   "execution_count": 11,
   "id": "1450e3d3",
   "metadata": {},
   "outputs": [],
   "source": [
    "pca = PCA(n_components = 100)\n",
    "pca.fit(img_data)\n",
    "pca_data=pca.transform(img_data)"
   ]
  },
  {
   "cell_type": "code",
   "execution_count": 12,
   "id": "5a7c4733",
   "metadata": {},
   "outputs": [],
   "source": [
    "# Split the data\n",
    "x = pca_data\n",
    "y = label['gender']\n",
    "\n",
    "# Split the data into training and testing(75% training and 25% testing data)\n",
    "x_train, x_test, y_train, y_test = train_test_split(x, y,random_state=0)# Pre-process data\n",
    "from sklearn.preprocessing import StandardScaler\n",
    "x_train = StandardScaler().fit_transform(x_train)\n",
    "x_test = StandardScaler().fit_transform(x_test)"
   ]
  },
  {
   "cell_type": "code",
   "execution_count": 13,
   "id": "319e76b5",
   "metadata": {},
   "outputs": [
    {
     "name": "stdout",
     "output_type": "stream",
     "text": [
      "Accuracy on train set:0.8101333333333334\n",
      "Accuracy on test set: 0.784\n",
      "              precision    recall  f1-score   support\n",
      "\n",
      "          -1       0.79      0.78      0.79       635\n",
      "           1       0.77      0.79      0.78       615\n",
      "\n",
      "    accuracy                           0.78      1250\n",
      "   macro avg       0.78      0.78      0.78      1250\n",
      "weighted avg       0.78      0.78      0.78      1250\n",
      "\n"
     ]
    }
   ],
   "source": [
    "logreg = LogisticRegression(solver='lbfgs',max_iter=1000)\n",
    "logreg.fit(x_train, y_train)\n",
    "y_pred= logreg.predict(x_test)\n",
    "print('Accuracy on train set:'+str(logreg.score(x_train,y_train)))\n",
    "print('Accuracy on test set: '+str(accuracy_score(y_test,y_pred)))\n",
    "print(classification_report(y_test,y_pred))#text report showing the main classification metrics"
   ]
  },
  {
   "cell_type": "code",
   "execution_count": 14,
   "id": "2009b183",
   "metadata": {},
   "outputs": [],
   "source": [
    "import pickle\n",
    "\n",
    "\n",
    "pickle.dump(logreg,open(\"LogisticRegression_gender_split.dat\",\"wb\")) \n",
    "\n",
    "\n",
    "loaded_model = pickle.load(open(\"LogisticRegression_gender_split.dat\",\"rb\"))\n",
    "\n",
    "\n",
    "y_pred=loaded_model.predict(x_test)"
   ]
  },
  {
   "cell_type": "code",
   "execution_count": null,
   "id": "67268614",
   "metadata": {},
   "outputs": [],
   "source": []
  }
 ],
 "metadata": {
  "kernelspec": {
   "display_name": "Python 3 (ipykernel)",
   "language": "python",
   "name": "python3"
  },
  "language_info": {
   "codemirror_mode": {
    "name": "ipython",
    "version": 3
   },
   "file_extension": ".py",
   "mimetype": "text/x-python",
   "name": "python",
   "nbconvert_exporter": "python",
   "pygments_lexer": "ipython3",
   "version": "3.9.12"
  }
 },
 "nbformat": 4,
 "nbformat_minor": 5
}
