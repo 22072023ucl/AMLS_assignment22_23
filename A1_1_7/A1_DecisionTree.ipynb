{
 "cells": [
  {
   "cell_type": "code",
   "execution_count": 1,
   "id": "f2f6785a",
   "metadata": {},
   "outputs": [],
   "source": [
    "import matplotlib.pyplot as plt\n",
    "import matplotlib.image as mpimg\n",
    "import numpy as np\n",
    "import cv2\n",
    "import pandas as pd\n",
    "from sklearn.decomposition import PCA\n",
    "from sklearn.preprocessing import StandardScaler\n",
    "from sklearn.metrics import confusion_matrix, classification_report,accuracy_score\n",
    "import pickle\n",
    "from sklearn import tree"
   ]
  },
  {
   "cell_type": "code",
   "execution_count": 2,
   "id": "54533f32",
   "metadata": {},
   "outputs": [],
   "source": [
    "#this function load the RGB image and change to gray inage, change the 2D image data to 1D and form a matrix\n",
    "def load_image_to_vector(image_path,image_number):\n",
    "    img_data=[]\n",
    "    for i in range (image_number):\n",
    "        img_color= mpimg.imread(image_path + str(i) + '.jpg')\n",
    "        img=cv2.cvtColor(img_color,cv2.COLOR_BGR2GRAY)\n",
    "        width=np.shape(img_color)[0]\n",
    "        height=np.shape(img_color)[1]\n",
    "        img_vector=img.reshape(width*height)\n",
    "        img_data.append(img_vector)\n",
    "    return img_data"
   ]
  },
  {
   "cell_type": "code",
   "execution_count": 3,
   "id": "534b8428",
   "metadata": {},
   "outputs": [],
   "source": [
    "def get_label(label_path,label_name):\n",
    "    label=pd.read_table(label_path)\n",
    "    y=label[label_name]\n",
    "    return y"
   ]
  },
  {
   "cell_type": "code",
   "execution_count": 4,
   "id": "2c93895e",
   "metadata": {},
   "outputs": [],
   "source": [
    "def DecisionTree_model(x_train,y_train,x_test,y_test):\n",
    "    tree_params={'criterion':'entropy'}\n",
    "    clf = tree.DecisionTreeClassifier( **tree_params )\n",
    "    clf.fit(x_train,y_train)\n",
    "    y_pred =  clf.predict(x_test)\n",
    "    print('Accuracy on train set:'+str(clf.score(x_train,y_train)))\n",
    "    print('Accuracy on test set: '+str(accuracy_score(y_test,y_pred)))\n",
    "    print(classification_report(y_test,y_pred))\n",
    "    return clf"
   ]
  },
  {
   "cell_type": "code",
   "execution_count": 5,
   "id": "9392cb60",
   "metadata": {},
   "outputs": [
    {
     "name": "stdout",
     "output_type": "stream",
     "text": [
      "Accuracy on train set:1.0\n",
      "Accuracy on test set: 0.745\n",
      "              precision    recall  f1-score   support\n",
      "\n",
      "          -1       0.74      0.75      0.75       500\n",
      "           1       0.75      0.74      0.74       500\n",
      "\n",
      "    accuracy                           0.74      1000\n",
      "   macro avg       0.75      0.74      0.74      1000\n",
      "weighted avg       0.75      0.74      0.74      1000\n",
      "\n"
     ]
    }
   ],
   "source": [
    "#get image data\n",
    "img_data_train=load_image_to_vector('../datasets/celeba/img/',5000)\n",
    "img_data_test=load_image_to_vector('../datasets/celeba_test/img/',1000)\n",
    "#get label\n",
    "y_train=get_label('../datasets/celeba/labels.csv','gender')\n",
    "y_test=get_label('../datasets/celeba_test/labels.csv','gender')\n",
    "#Standardize the data\n",
    "x_train = StandardScaler().fit_transform(img_data_train)\n",
    "x_test = StandardScaler().fit_transform(img_data_test)\n",
    "#train the model and report accuracy\n",
    "model=DecisionTree_model(x_train,y_train,x_test,y_test)\n",
    "#save model\n",
    "pickle.dump(model,open(\"DecisionTree_gender.dat\",\"wb\")) "
   ]
  },
  {
   "cell_type": "code",
   "execution_count": null,
   "id": "0a52f10c",
   "metadata": {},
   "outputs": [],
   "source": []
  }
 ],
 "metadata": {
  "kernelspec": {
   "display_name": "Python 3 (ipykernel)",
   "language": "python",
   "name": "python3"
  },
  "language_info": {
   "codemirror_mode": {
    "name": "ipython",
    "version": 3
   },
   "file_extension": ".py",
   "mimetype": "text/x-python",
   "name": "python",
   "nbconvert_exporter": "python",
   "pygments_lexer": "ipython3",
   "version": "3.9.12"
  }
 },
 "nbformat": 4,
 "nbformat_minor": 5
}
