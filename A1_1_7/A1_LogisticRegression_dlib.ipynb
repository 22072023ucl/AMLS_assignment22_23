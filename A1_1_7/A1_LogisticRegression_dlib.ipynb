{
 "cells": [
  {
   "cell_type": "code",
   "execution_count": 1,
   "id": "46700d31",
   "metadata": {},
   "outputs": [],
   "source": [
    "import dlib\n",
    "import matplotlib.pyplot as plt\n",
    "import matplotlib.image as mpimg\n",
    "import numpy as np\n",
    "import cv2\n",
    "import pandas as pd\n",
    "from sklearn.decomposition import PCA\n",
    "from sklearn.preprocessing import StandardScaler\n",
    "from sklearn.linear_model import LogisticRegression\n",
    "from sklearn.metrics import confusion_matrix, classification_report,accuracy_score\n",
    "from sklearn.linear_model import LogisticRegressionCV"
   ]
  },
  {
   "cell_type": "code",
   "execution_count": 21,
   "id": "bf0dc686",
   "metadata": {},
   "outputs": [],
   "source": [
    "predictor_path = \"./shape_predictor_68_face_landmarks.dat\"\n",
    "face_rec_model_path = \"./dlib_face_recognition_resnet_model_v1.dat\"\n",
    " \n",
    "detector = dlib.get_frontal_face_detector() #a detector to find the faces\n",
    "sp = dlib.shape_predictor(predictor_path ) #shape predictor to find face landmarks\n",
    "facerec = dlib.face_recognition_model_v1(face_rec_model_path) #face recognition model\n",
    "img_data=np.zeros((5000,128))"
   ]
  },
  {
   "cell_type": "code",
   "execution_count": null,
   "id": "5f8cf14d",
   "metadata": {},
   "outputs": [],
   "source": [
    "img_data_train=np.zeros((5000,128))\n",
    "for i in range (5000):\n",
    "    img = dlib.load_rgb_image('../datasets/celeba/img/' + str(i) + '.jpg')\n",
    "    dets = detector(img, 1)  #Extract the face area in the picture\n",
    "    for k, d in enumerate(dets):\n",
    "        shape = sp(img, d)\n",
    "        face_descriptor = facerec.compute_face_descriptor(img, shape)\n",
    "        img_data_train[i,:]=face_descriptor"
   ]
  },
  {
   "cell_type": "code",
   "execution_count": null,
   "id": "fa6a5ff5",
   "metadata": {},
   "outputs": [],
   "source": [
    "img_data_test=np.zeros((1000,128))\n",
    "for i in range (1000):\n",
    "    img = dlib.load_rgb_image('../datasets/celeba_test/img/' + str(i) + '.jpg')\n",
    "    dets = detector(img, 1)  #Extract the face area in the picture\n",
    "    for k, d in enumerate(dets):\n",
    "        shape = sp(img, d)\n",
    "        face_descriptor = facerec.compute_face_descriptor(img, shape)\n",
    "        img_data_test[i,:]=face_descriptor"
   ]
  },
  {
   "cell_type": "code",
   "execution_count": 2,
   "id": "241a9bc3",
   "metadata": {},
   "outputs": [],
   "source": [
    "img_data_train = pd.read_csv('./face_feature_train.csv')\n",
    "img_data_train=np.array(img_data_train)\n",
    "img_data_train=img_data_train[:,1:]"
   ]
  },
  {
   "cell_type": "code",
   "execution_count": 3,
   "id": "527fe1bd",
   "metadata": {},
   "outputs": [],
   "source": [
    "img_data_test = pd.read_csv('./face_feature_test.csv')\n",
    "img_data_test=np.array(img_data_test)\n",
    "img_data_test=img_data_test[:,1:]"
   ]
  },
  {
   "cell_type": "code",
   "execution_count": 4,
   "id": "a89d78be",
   "metadata": {},
   "outputs": [],
   "source": [
    "label_train=pd.read_table('../datasets/celeba/labels.csv')"
   ]
  },
  {
   "cell_type": "code",
   "execution_count": 5,
   "id": "bbb39b5f",
   "metadata": {},
   "outputs": [],
   "source": [
    "label_test=pd.read_table('../datasets/celeba_test/labels.csv')"
   ]
  },
  {
   "cell_type": "code",
   "execution_count": 6,
   "id": "d37175d7",
   "metadata": {},
   "outputs": [],
   "source": [
    "x_train = img_data_train\n",
    "y_train= label_train['gender']\n",
    "x_test = img_data_test\n",
    "y_test= label_test['gender']"
   ]
  },
  {
   "cell_type": "code",
   "execution_count": 7,
   "id": "5a7c4733",
   "metadata": {},
   "outputs": [],
   "source": [
    "x_train = StandardScaler().fit_transform(x_train)\n",
    "x_test = StandardScaler().fit_transform(x_test)"
   ]
  },
  {
   "cell_type": "code",
   "execution_count": 8,
   "id": "319e76b5",
   "metadata": {},
   "outputs": [
    {
     "name": "stdout",
     "output_type": "stream",
     "text": [
      "Accuracy on train set:0.9746\n",
      "Accuracy on test set: 0.968\n",
      "              precision    recall  f1-score   support\n",
      "\n",
      "          -1       0.97      0.96      0.97       500\n",
      "           1       0.96      0.97      0.97       500\n",
      "\n",
      "    accuracy                           0.97      1000\n",
      "   macro avg       0.97      0.97      0.97      1000\n",
      "weighted avg       0.97      0.97      0.97      1000\n",
      "\n"
     ]
    }
   ],
   "source": [
    "logreg = LogisticRegression(solver='lbfgs',max_iter=1000)\n",
    "logreg.fit(x_train, y_train)\n",
    "y_pred= logreg.predict(x_test)\n",
    "print('Accuracy on train set:'+str(logreg.score(x_train,y_train)))\n",
    "print('Accuracy on test set: '+str(accuracy_score(y_test,y_pred)))\n",
    "print(classification_report(y_test,y_pred))#text report showing the main classification metrics"
   ]
  },
  {
   "cell_type": "code",
   "execution_count": 10,
   "id": "2009b183",
   "metadata": {},
   "outputs": [],
   "source": [
    "import pickle\n",
    "\n",
    "\n",
    "pickle.dump(logreg,open(\"LogisticRegression_gender_dlib.dat\",\"wb\")) \n",
    "\n",
    "\n",
    "loaded_model = pickle.load(open(\"LogisticRegression_gender_dlib.dat\",\"rb\"))\n",
    "\n",
    "\n",
    "y_pred=loaded_model.predict(x_test)"
   ]
  },
  {
   "cell_type": "code",
   "execution_count": 12,
   "id": "2af0a308",
   "metadata": {},
   "outputs": [
    {
     "name": "stdout",
     "output_type": "stream",
     "text": [
      "Accuracy on train set:0.9746\n",
      "Accuracy on test set: 0.968\n",
      "              precision    recall  f1-score   support\n",
      "\n",
      "          -1       0.97      0.96      0.97       500\n",
      "           1       0.96      0.97      0.97       500\n",
      "\n",
      "    accuracy                           0.97      1000\n",
      "   macro avg       0.97      0.97      0.97      1000\n",
      "weighted avg       0.97      0.97      0.97      1000\n",
      "\n"
     ]
    }
   ],
   "source": [
    "logregcv = LogisticRegressionCV(solver='lbfgs',cv=50,max_iter=5000)\n",
    "logregcv.fit(x_train, y_train)\n",
    "y_pred_cv= logregcv.predict(x_test)\n",
    "print('Accuracy on train set:'+str(logreg.score(x_train,y_train)))\n",
    "print('Accuracy on test set: '+str(accuracy_score(y_test,y_pred)))\n",
    "print(classification_report(y_test,y_pred))#text report showing the main classification metrics"
   ]
  },
  {
   "cell_type": "code",
   "execution_count": null,
   "id": "f89f9248",
   "metadata": {},
   "outputs": [],
   "source": []
  }
 ],
 "metadata": {
  "kernelspec": {
   "display_name": "Python 3 (ipykernel)",
   "language": "python",
   "name": "python3"
  },
  "language_info": {
   "codemirror_mode": {
    "name": "ipython",
    "version": 3
   },
   "file_extension": ".py",
   "mimetype": "text/x-python",
   "name": "python",
   "nbconvert_exporter": "python",
   "pygments_lexer": "ipython3",
   "version": "3.9.12"
  }
 },
 "nbformat": 4,
 "nbformat_minor": 5
}
