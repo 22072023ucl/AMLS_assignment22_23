{
 "cells": [
  {
   "cell_type": "code",
   "execution_count": 3,
   "id": "0cb0c0ce",
   "metadata": {},
   "outputs": [],
   "source": [
    "import dlib\n",
    "import matplotlib.pyplot as plt\n",
    "import matplotlib.image as mpimg\n",
    "import numpy as np\n",
    "import cv2\n",
    "import pandas as pd\n",
    "import numpy as np\n",
    "from sklearn.decomposition import PCA\n",
    "import matplotlib.pyplot as plt\n",
    "from sklearn.svm import SVC\n",
    "from sklearn.model_selection import train_test_split\n",
    "from sklearn.metrics import accuracy_score\n",
    "from sklearn.preprocessing import StandardScaler"
   ]
  },
  {
   "cell_type": "code",
   "execution_count": 4,
   "id": "690490e6",
   "metadata": {},
   "outputs": [],
   "source": [
    "predictor_path = \"./shape_predictor_68_face_landmarks.dat\"\n",
    "face_rec_model_path = \"./dlib_face_recognition_resnet_model_v1.dat\"\n",
    " \n",
    "detector = dlib.get_frontal_face_detector() #a detector to find the faces\n",
    "sp = dlib.shape_predictor(predictor_path ) #shape predictor to find face landmarks\n",
    "facerec = dlib.face_recognition_model_v1(face_rec_model_path) #face recognition model"
   ]
  },
  {
   "cell_type": "code",
   "execution_count": 5,
   "id": "907e7943",
   "metadata": {},
   "outputs": [],
   "source": [
    "img_data_train=np.zeros((5000,128))\n",
    "for i in range (5000):\n",
    "    img = dlib.load_rgb_image('../datasets/celeba/img/' + str(i) + '.jpg')\n",
    "    dets = detector(img, 1)  #Extract the face area in the picture\n",
    "    for k, d in enumerate(dets):\n",
    "        shape = sp(img, d)\n",
    "        face_descriptor = facerec.compute_face_descriptor(img, shape)\n",
    "        img_data_train[i,:]=face_descriptor"
   ]
  },
  {
   "cell_type": "code",
   "execution_count": 7,
   "id": "659740e8",
   "metadata": {},
   "outputs": [],
   "source": [
    "img_data_train_df = pd.DataFrame(img_data_train)\n",
    "img_data_train_df.to_csv('face_feature_train.csv')"
   ]
  },
  {
   "cell_type": "code",
   "execution_count": 6,
   "id": "87374fe3",
   "metadata": {},
   "outputs": [
    {
     "name": "stdout",
     "output_type": "stream",
     "text": [
      "(5000, 128)\n"
     ]
    }
   ],
   "source": [
    "print(np.shape(img_data_train))"
   ]
  },
  {
   "cell_type": "code",
   "execution_count": 8,
   "id": "e678f16e",
   "metadata": {},
   "outputs": [],
   "source": [
    "label_train=pd.read_table('../datasets/celeba/labels.csv')"
   ]
  },
  {
   "cell_type": "code",
   "execution_count": 9,
   "id": "7af8fe47",
   "metadata": {},
   "outputs": [],
   "source": [
    "img_data_test=np.zeros((1000,128))\n",
    "for i in range (1000):\n",
    "    img = dlib.load_rgb_image('../datasets/celeba_test/img/' + str(i) + '.jpg')\n",
    "    dets = detector(img, 1)  #Extract the face area in the picture\n",
    "    for k, d in enumerate(dets):\n",
    "        shape = sp(img, d)\n",
    "        face_descriptor = facerec.compute_face_descriptor(img, shape)\n",
    "        img_data_test[i,:]=face_descriptor"
   ]
  },
  {
   "cell_type": "code",
   "execution_count": 10,
   "id": "85a517be",
   "metadata": {},
   "outputs": [
    {
     "name": "stdout",
     "output_type": "stream",
     "text": [
      "(1000, 128)\n"
     ]
    }
   ],
   "source": [
    "img_data_test_df = pd.DataFrame(img_data_test)\n",
    "img_data_test_df.to_csv('face_feature_test.csv')\n",
    "print(np.shape(img_data_test))"
   ]
  },
  {
   "cell_type": "code",
   "execution_count": 11,
   "id": "bf315666",
   "metadata": {},
   "outputs": [],
   "source": [
    "label_test=pd.read_table('../datasets/celeba_test/labels.csv')"
   ]
  },
  {
   "cell_type": "code",
   "execution_count": 12,
   "id": "1cc74bc2",
   "metadata": {},
   "outputs": [],
   "source": [
    "x_train = img_data_train\n",
    "y_train= label_train['gender']\n",
    "x_test = img_data_test\n",
    "y_test= label_test['gender']"
   ]
  },
  {
   "cell_type": "code",
   "execution_count": 13,
   "id": "a075a12f",
   "metadata": {},
   "outputs": [],
   "source": [
    "x_train = StandardScaler().fit_transform(x_train)\n",
    "x_test = StandardScaler().fit_transform(x_test)"
   ]
  },
  {
   "cell_type": "code",
   "execution_count": 14,
   "id": "8470ceee",
   "metadata": {},
   "outputs": [],
   "source": [
    "clf=SVC(gamma='auto')\n",
    "clf.fit(x_train,y_train)\n",
    "y_pred =  clf.predict(x_test)"
   ]
  },
  {
   "cell_type": "code",
   "execution_count": 15,
   "id": "816f4757",
   "metadata": {},
   "outputs": [
    {
     "name": "stdout",
     "output_type": "stream",
     "text": [
      "Accuracy Score on train data:  0.978\n",
      "Accuracy Score on test data:  0.969\n"
     ]
    }
   ],
   "source": [
    "print('Accuracy Score on train data: ', accuracy_score(y_true=y_train, y_pred=clf.predict(x_train)))\n",
    "print('Accuracy Score on test data: ', accuracy_score(y_true=y_test, y_pred=y_pred))"
   ]
  },
  {
   "cell_type": "code",
   "execution_count": 17,
   "id": "f29937ec",
   "metadata": {},
   "outputs": [],
   "source": [
    "import pickle\n",
    "\n",
    "#save model\n",
    "pickle.dump(clf,open(\"SVM_gender_dlib.dat\",\"wb\"))  \n",
    "\n",
    "# load model\n",
    "loaded_model = pickle.load(open(\"SVM_gender_dlib.dat\",\"rb\"))\n",
    "\n",
    "y_pred=loaded_model.predict(x_test)"
   ]
  },
  {
   "cell_type": "code",
   "execution_count": null,
   "id": "f762e9fd",
   "metadata": {},
   "outputs": [],
   "source": []
  }
 ],
 "metadata": {
  "kernelspec": {
   "display_name": "Python 3 (ipykernel)",
   "language": "python",
   "name": "python3"
  },
  "language_info": {
   "codemirror_mode": {
    "name": "ipython",
    "version": 3
   },
   "file_extension": ".py",
   "mimetype": "text/x-python",
   "name": "python",
   "nbconvert_exporter": "python",
   "pygments_lexer": "ipython3",
   "version": "3.9.12"
  }
 },
 "nbformat": 4,
 "nbformat_minor": 5
}
