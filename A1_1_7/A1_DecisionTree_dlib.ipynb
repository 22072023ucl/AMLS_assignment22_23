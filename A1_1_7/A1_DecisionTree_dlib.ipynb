{
 "cells": [
  {
   "cell_type": "code",
   "execution_count": 1,
   "id": "46700d31",
   "metadata": {},
   "outputs": [],
   "source": [
    "import dlib\n",
    "import matplotlib.pyplot as plt\n",
    "import matplotlib.image as mpimg\n",
    "import numpy as np\n",
    "import cv2\n",
    "import pandas as pd\n",
    "import numpy as np\n",
    "from sklearn.decomposition import PCA\n",
    "from sklearn.preprocessing import MinMaxScaler\n",
    "import matplotlib.pyplot as plt\n",
    "from sklearn import tree\n",
    "from sklearn.model_selection import train_test_split\n",
    "from sklearn.metrics import confusion_matrix, classification_report,accuracy_score\n",
    "from sklearn.preprocessing import StandardScaler\n",
    "import pickle"
   ]
  },
  {
   "cell_type": "code",
   "execution_count": 13,
   "id": "88a7d7e7",
   "metadata": {},
   "outputs": [],
   "source": [
    "predictor_path = \"./shape_predictor_68_face_landmarks.dat\"\n",
    "face_rec_model_path = \"./dlib_face_recognition_resnet_model_v1.dat\"\n",
    " \n",
    "detector = dlib.get_frontal_face_detector() #a detector to find the faces\n",
    "sp = dlib.shape_predictor(predictor_path ) #shape predictor to find face landmarks\n",
    "facerec = dlib.face_recognition_model_v1(face_rec_model_path) #face recognition model\n",
    "img_data=np.zeros((5000,128))"
   ]
  },
  {
   "cell_type": "markdown",
   "id": "5582a16f",
   "metadata": {},
   "source": [
    "img_data_train=np.zeros((5000,128))\n",
    "for i in range (5000):\n",
    "    img = dlib.load_rgb_image('../datasets/celeba/img/' + str(i) + '.jpg')\n",
    "    dets = detector(img, 1)  #Extract the face area in the picture\n",
    "    for k, d in enumerate(dets):\n",
    "        shape = sp(img, d)\n",
    "        face_descriptor = facerec.compute_face_descriptor(img, shape)\n",
    "        img_data_train[i,:]=face_descriptor"
   ]
  },
  {
   "cell_type": "markdown",
   "id": "10e43f71",
   "metadata": {},
   "source": [
    "img_data_test=np.zeros((1000,128))\n",
    "for i in range (1000):\n",
    "    img = dlib.load_rgb_image('../datasets/celeba_test/img/' + str(i) + '.jpg')\n",
    "    dets = detector(img, 1)  #Extract the face area in the picture\n",
    "    for k, d in enumerate(dets):\n",
    "        shape = sp(img, d)\n",
    "        face_descriptor = facerec.compute_face_descriptor(img, shape)\n",
    "        img_data_test[i,:]=face_descriptor"
   ]
  },
  {
   "cell_type": "code",
   "execution_count": 2,
   "id": "16a161ea",
   "metadata": {},
   "outputs": [],
   "source": [
    "img_data_train = pd.read_csv('./face_feature_train.csv')\n",
    "img_data_train=np.array(img_data_train)\n",
    "img_data_train=img_data_train[:,1:]"
   ]
  },
  {
   "cell_type": "code",
   "execution_count": 4,
   "id": "fba3cb68",
   "metadata": {},
   "outputs": [],
   "source": [
    "img_data_test = pd.read_csv('./face_feature_test.csv')\n",
    "img_data_test=np.array(img_data_test)\n",
    "img_data_test=img_data_test[:,1:]"
   ]
  },
  {
   "cell_type": "code",
   "execution_count": 5,
   "id": "3b985d44",
   "metadata": {},
   "outputs": [],
   "source": [
    "label_train=pd.read_table('../datasets/celeba/labels.csv')"
   ]
  },
  {
   "cell_type": "code",
   "execution_count": 6,
   "id": "eb4b5df2",
   "metadata": {},
   "outputs": [],
   "source": [
    "label_test=pd.read_table('../datasets/celeba_test/labels.csv')"
   ]
  },
  {
   "cell_type": "code",
   "execution_count": 7,
   "id": "7f688973",
   "metadata": {},
   "outputs": [],
   "source": [
    "x_train = img_data_train\n",
    "y_train= label_train['gender']\n",
    "x_test = img_data_test\n",
    "y_test= label_test['gender']"
   ]
  },
  {
   "cell_type": "markdown",
   "id": "ae068b4f",
   "metadata": {},
   "source": [
    "x = pd.read_csv('./face feature.csv')\n",
    "x=np.array(x)\n",
    "x=x[:,1:]\n",
    "print(x)\n",
    "print(np.shape(x))"
   ]
  },
  {
   "cell_type": "code",
   "execution_count": 8,
   "id": "5a7c4733",
   "metadata": {},
   "outputs": [],
   "source": [
    "from sklearn.preprocessing import StandardScaler\n",
    "x_train = StandardScaler().fit_transform(x_train)\n",
    "x_test = StandardScaler().fit_transform(x_test)"
   ]
  },
  {
   "cell_type": "code",
   "execution_count": 9,
   "id": "319e76b5",
   "metadata": {},
   "outputs": [],
   "source": [
    "#Importing the Decision tree classifier from the sklearn library.\n",
    "tree_params={\n",
    "    'criterion':'entropy'\n",
    "}\n",
    "clf = tree.DecisionTreeClassifier( **tree_params )"
   ]
  },
  {
   "cell_type": "code",
   "execution_count": 10,
   "id": "ece8050f",
   "metadata": {},
   "outputs": [],
   "source": [
    "clf.fit(x_train,y_train)\n",
    "\n",
    "#Predicting labels on the test set.\n",
    "# Please complete the code below.\n",
    "y_pred =  clf.predict(x_test)"
   ]
  },
  {
   "cell_type": "code",
   "execution_count": 11,
   "id": "ce44c6f7",
   "metadata": {},
   "outputs": [
    {
     "name": "stdout",
     "output_type": "stream",
     "text": [
      "Accuracy Score on train data:  0.9882\n",
      "Accuracy Score on test data:  0.922\n"
     ]
    }
   ],
   "source": [
    "print('Accuracy Score on train data: ', accuracy_score(y_true=y_train, y_pred=clf.predict(x_train)))\n",
    "print('Accuracy Score on test data: ', accuracy_score(y_true=y_test, y_pred=y_pred))"
   ]
  },
  {
   "cell_type": "code",
   "execution_count": 12,
   "id": "795149b6",
   "metadata": {},
   "outputs": [],
   "source": [
    "pickle.dump(clf,open(\"DecisionTree_gender_dlib.dat\",\"wb\")) \n",
    "\n",
    "\n",
    "loaded_model = pickle.load(open(\"DecisionTree_gender_dlib.dat\",\"rb\"))\n",
    "\n",
    "\n",
    "y_pred=loaded_model.predict(x_test)"
   ]
  },
  {
   "cell_type": "code",
   "execution_count": null,
   "id": "7af1d31f",
   "metadata": {},
   "outputs": [],
   "source": []
  }
 ],
 "metadata": {
  "kernelspec": {
   "display_name": "Python 3 (ipykernel)",
   "language": "python",
   "name": "python3"
  },
  "language_info": {
   "codemirror_mode": {
    "name": "ipython",
    "version": 3
   },
   "file_extension": ".py",
   "mimetype": "text/x-python",
   "name": "python",
   "nbconvert_exporter": "python",
   "pygments_lexer": "ipython3",
   "version": "3.9.12"
  }
 },
 "nbformat": 4,
 "nbformat_minor": 5
}
