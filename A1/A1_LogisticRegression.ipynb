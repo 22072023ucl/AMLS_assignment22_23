{
 "cells": [
  {
   "cell_type": "code",
   "execution_count": 1,
   "id": "c441722d",
   "metadata": {},
   "outputs": [],
   "source": [
    "import matplotlib.pyplot as plt\n",
    "import matplotlib.image as mpimg\n",
    "import numpy as np\n",
    "import cv2\n",
    "import pandas as pd\n",
    "from sklearn.decomposition import PCA\n",
    "from sklearn.preprocessing import StandardScaler\n",
    "from sklearn.model_selection import train_test_split\n",
    "from sklearn.linear_model import LogisticRegression\n",
    "from sklearn.metrics import confusion_matrix, classification_report,accuracy_score\n",
    "import pickle\n",
    "import dlib"
   ]
  },
  {
   "cell_type": "code",
   "execution_count": 2,
   "id": "56c03d35",
   "metadata": {},
   "outputs": [],
   "source": [
    "def load_image_to_vector(image_path,image_number):\n",
    "    img_data=[]\n",
    "    for i in range (image_number):\n",
    "        img_color= mpimg.imread(image_path + str(i) + '.jpg')\n",
    "        img=cv2.cvtColor(img_color,cv2.COLOR_BGR2GRAY)\n",
    "        width=np.shape(img_color)[0]\n",
    "        height=np.shape(img_color)[1]\n",
    "        img_vector=img.reshape(width*height)\n",
    "        img_data.append(img_vector)\n",
    "    return img_data"
   ]
  },
  {
   "cell_type": "code",
   "execution_count": 3,
   "id": "51995b67",
   "metadata": {},
   "outputs": [],
   "source": [
    "def get_label(label_path,label_name):\n",
    "    label=pd.read_table(label_path)\n",
    "    y=label[label_name]\n",
    "    return y"
   ]
  },
  {
   "cell_type": "code",
   "execution_count": 4,
   "id": "563e98b3",
   "metadata": {},
   "outputs": [],
   "source": [
    "def LogisticRegression_model(x_train,y_train,x_test,y_test):\n",
    "    clf = LogisticRegression(solver='sag',fit_intercept=True,max_iter=1000)\n",
    "    clf.fit(x_train, y_train)\n",
    "    y_pred = clf.predict(x_test)\n",
    "    print('Accuracy on train set:'+str(clf.score(x_train,y_train)))\n",
    "    print('Accuracy on test set: '+str(accuracy_score(y_test,y_pred)))\n",
    "    print(classification_report(y_test,y_pred))\n",
    "    return clf"
   ]
  },
  {
   "cell_type": "code",
   "execution_count": 5,
   "id": "0f0a031e",
   "metadata": {},
   "outputs": [],
   "source": [
    "def img_data_pca(img_data,dimention):\n",
    "    pca = PCA(n_components = 100)\n",
    "    pca.fit(img_data)\n",
    "    pca_data=pca.transform(img_data)\n",
    "    return pca_data"
   ]
  },
  {
   "cell_type": "code",
   "execution_count": 6,
   "id": "de275ddf",
   "metadata": {},
   "outputs": [],
   "source": [
    "def face_feature(img_path,img_number):\n",
    "    predictor_path = \"./shape_predictor_68_face_landmarks.dat\"\n",
    "    face_rec_model_path = \"./dlib_face_recognition_resnet_model_v1.dat\"\n",
    "    detector = dlib.get_frontal_face_detector() #a detector to find the faces\n",
    "    sp = dlib.shape_predictor(predictor_path ) #shape predictor to find face landmarks\n",
    "    facerec = dlib.face_recognition_model_v1(face_rec_model_path) #face recognition model\n",
    "    img_data=np.zeros((img_number,128))\n",
    "    for i in range (img_number):\n",
    "        img = dlib.load_rgb_image('../datasets/'+img_path+'/img/' + str(i) + '.jpg')\n",
    "        dets = detector(img, 1)  #Extract the face area in the picture\n",
    "        for k, d in enumerate(dets):\n",
    "            shape = sp(img, d)\n",
    "            face_descriptor = facerec.compute_face_descriptor(img, shape)\n",
    "            img_data[i,:]=face_descriptor\n",
    "    return img_data"
   ]
  },
  {
   "cell_type": "code",
   "execution_count": 7,
   "id": "db8d4f43",
   "metadata": {},
   "outputs": [],
   "source": [
    "def face_feature_read(csv_name):\n",
    "    img_data = pd.read_csv('./'+csv_name+'.csv')\n",
    "    img_data=np.array(img_data)\n",
    "    img_data=img_data[:,1:]\n",
    "    return img_data"
   ]
  },
  {
   "cell_type": "code",
   "execution_count": 8,
   "id": "dc958808",
   "metadata": {},
   "outputs": [],
   "source": [
    "def learn_curve(x_train,y_train,x_test,y_test):\n",
    "    l2_iter = []\n",
    "    l2_iter_t = []\n",
    "    iters = np.arange(300,500,50)\n",
    "    for i in iters:\n",
    "        lr2 = LogisticRegression(penalty=\"l2\",solver='sag',max_iter=i,random_state=0)\n",
    "        lr2 = lr2.fit(x_train,y_train)\n",
    "        l2_iter.append(accuracy_score(lr2.predict(x_train),y_train))\n",
    "        l2_iter_t.append(accuracy_score(lr2.predict(x_test),y_test))\n",
    "    plt.plot(figsize=(20,6))\n",
    "    plt.plot(iters,l2_iter,label='accuracy')\n",
    "    plt.plot(iters,l2_iter_t,label='val_accuracy')\n",
    "    plt.xticks(iters)\n",
    "    plt.xlabel('Iteration')\n",
    "    plt.ylabel('Accuracy')\n",
    "    plt.legend()\n",
    "    plt.show()"
   ]
  },
  {
   "cell_type": "code",
   "execution_count": 9,
   "id": "0ebae990",
   "metadata": {},
   "outputs": [
    {
     "name": "stdout",
     "output_type": "stream",
     "text": [
      "Accuracy on train set:1.0\n",
      "Accuracy on test set: 0.868\n",
      "              precision    recall  f1-score   support\n",
      "\n",
      "          -1       0.86      0.87      0.86       241\n",
      "           1       0.88      0.86      0.87       259\n",
      "\n",
      "    accuracy                           0.87       500\n",
      "   macro avg       0.87      0.87      0.87       500\n",
      "weighted avg       0.87      0.87      0.87       500\n",
      "\n",
      "CPU times: total: 12min 22s\n",
      "Wall time: 12min 40s\n"
     ]
    },
    {
     "name": "stderr",
     "output_type": "stream",
     "text": [
      "C:\\Users\\ccgba_c8rtor4\\anaconda3\\lib\\site-packages\\sklearn\\linear_model\\_sag.py:352: ConvergenceWarning: The max_iter was reached which means the coef_ did not converge\n",
      "  warnings.warn(\n"
     ]
    }
   ],
   "source": [
    "%%time\n",
    "#Data without dimensionality reduction and feature extraction\n",
    "#get image data\n",
    "img_data=load_image_to_vector('../datasets/celeba/img/',5000)\n",
    "#get label\n",
    "label=get_label('../datasets/celeba/labels.csv','gender')\n",
    "#Standardize the data\n",
    "x_train, x_test, y_train, y_test = train_test_split(img_data, label,test_size=0.1,random_state=0)\n",
    "transfer=StandardScaler()\n",
    "x_train = transfer.fit_transform(x_train)\n",
    "x_test = transfer.transform(x_test)\n",
    "#train the model and report accuracy\n",
    "model=LogisticRegression_model(x_train,y_train,x_test,y_test)\n",
    "#save model\n",
    "pickle.dump(model,open(\"LogisticRegression_gender.dat\",\"wb\")) "
   ]
  },
  {
   "cell_type": "code",
   "execution_count": 13,
   "id": "c260345c",
   "metadata": {},
   "outputs": [
    {
     "name": "stdout",
     "output_type": "stream",
     "text": [
      "Accuracy on train set:0.804\n",
      "Accuracy on test set: 0.412\n",
      "              precision    recall  f1-score   support\n",
      "\n",
      "          -1       0.39      0.39      0.39       241\n",
      "           1       0.43      0.43      0.43       259\n",
      "\n",
      "    accuracy                           0.41       500\n",
      "   macro avg       0.41      0.41      0.41       500\n",
      "weighted avg       0.41      0.41      0.41       500\n",
      "\n",
      "CPU times: total: 37.2 s\n",
      "Wall time: 8.52 s\n"
     ]
    }
   ],
   "source": [
    "%%time\n",
    "#Data with dimensionality reduction by PCA\n",
    "#get image data\n",
    "img_data=load_image_to_vector('../datasets/celeba/img/',5000)\n",
    "#get label\n",
    "label=get_label('../datasets/celeba/labels.csv','gender')\n",
    "#pca for image data\n",
    "x_train, x_test, y_train, y_test = train_test_split(img_data, label,test_size=0.1,random_state=0)\n",
    "x_train=img_data_pca(x_train,100)\n",
    "x_test=img_data_pca(x_test,100)\n",
    "#Standardize the data\n",
    "transfer=StandardScaler()\n",
    "x_train = transfer.fit_transform(x_train)\n",
    "x_test = transfer.transform(x_test)\n",
    "#train the model and report accuracy\n",
    "model=LogisticRegression_model(x_train,y_train,x_test,y_test)\n",
    "#save model\n",
    "pickle.dump(model,open(\"LogisticRegression_gender_PCA.dat\",\"wb\")) "
   ]
  },
  {
   "cell_type": "code",
   "execution_count": 14,
   "id": "8a769d20",
   "metadata": {},
   "outputs": [
    {
     "name": "stdout",
     "output_type": "stream",
     "text": [
      "Accuracy on train set:0.9764444444444444\n",
      "Accuracy on test set: 0.966\n",
      "              precision    recall  f1-score   support\n",
      "\n",
      "          -1       0.98      0.95      0.96       241\n",
      "           1       0.95      0.98      0.97       259\n",
      "\n",
      "    accuracy                           0.97       500\n",
      "   macro avg       0.97      0.97      0.97       500\n",
      "weighted avg       0.97      0.97      0.97       500\n",
      "\n",
      "CPU times: total: 17min 49s\n",
      "Wall time: 18min 38s\n"
     ]
    }
   ],
   "source": [
    "%%time\n",
    "#Data with feature extraction\n",
    "#img_data=face_feature_read('face_feature_train')\n",
    "img_data=face_feature('celeba',5000)\n",
    "#img_data=face_feature('celeba',5000)\n",
    "#get label\n",
    "label=get_label('../datasets/celeba/labels.csv','gender')\n",
    "#Standardize the data\n",
    "x_train, x_test, y_train, y_test = train_test_split(img_data, label,test_size=0.1,random_state=0)\n",
    "transfer=StandardScaler()\n",
    "x_train = transfer.fit_transform(x_train)\n",
    "x_test = transfer.transform(x_test)\n",
    "#train the model and report accuracy\n",
    "model=LogisticRegression_model(x_train,y_train,x_test,y_test)\n",
    "#save model\n",
    "pickle.dump(model,open(\"LogisticRegression_gender_dlib.dat\",\"wb\")) "
   ]
  },
  {
   "cell_type": "code",
   "execution_count": 16,
   "id": "9dba0f5f",
   "metadata": {},
   "outputs": [
    {
     "data": {
      "image/png": "[encoded data removed]",
      "text/plain": [
       "<Figure size 432x288 with 1 Axes>"
      ]
     },
     "metadata": {
      "needs_background": "light"
     },
     "output_type": "display_data"
    }
   ],
   "source": [
    "#learning_curve for LR\n",
    "learn_curve(x_train,y_train,x_test,y_test)"
   ]
  },
  {
   "cell_type": "code",
   "execution_count": null,
   "id": "22295d16",
   "metadata": {},
   "outputs": [],
   "source": [
    "#The following is for testing "
   ]
  },
  {
   "cell_type": "code",
   "execution_count": 17,
   "id": "3c6de01e",
   "metadata": {},
   "outputs": [
    {
     "name": "stdout",
     "output_type": "stream",
     "text": [
      "Accuracy on test set: 0.881\n",
      "              precision    recall  f1-score   support\n",
      "\n",
      "          -1       0.87      0.89      0.88       500\n",
      "           1       0.89      0.87      0.88       500\n",
      "\n",
      "    accuracy                           0.88      1000\n",
      "   macro avg       0.88      0.88      0.88      1000\n",
      "weighted avg       0.88      0.88      0.88      1000\n",
      "\n",
      "CPU times: total: 797 ms\n",
      "Wall time: 1.17 s\n"
     ]
    }
   ],
   "source": [
    "%%time\n",
    "##Data without dimensionality reduction and feature extraction\n",
    "#get and preprocess image data for testing\n",
    "img_data_test=load_image_to_vector('../datasets/celeba_test/img/',1000)\n",
    "img_data_test = transfer.fit_transform(img_data_test)\n",
    "#get label_test\n",
    "label_test=get_label('../datasets/celeba_test/labels.csv','gender')\n",
    "#load model\n",
    "loaded_model = pickle.load(open(\"LogisticRegression_gender.dat\",\"rb\"))\n",
    "label_pred=loaded_model.predict(img_data_test)\n",
    "print('Accuracy on test set: '+str(accuracy_score(label_test,label_pred)))\n",
    "print(classification_report(label_test,label_pred))"
   ]
  },
  {
   "cell_type": "code",
   "execution_count": 18,
   "id": "2e8c2dca",
   "metadata": {},
   "outputs": [
    {
     "name": "stdout",
     "output_type": "stream",
     "text": [
      "Accuracy on test set: 0.499\n",
      "              precision    recall  f1-score   support\n",
      "\n",
      "          -1       0.50      0.47      0.49       500\n",
      "           1       0.50      0.52      0.51       500\n",
      "\n",
      "    accuracy                           0.50      1000\n",
      "   macro avg       0.50      0.50      0.50      1000\n",
      "weighted avg       0.50      0.50      0.50      1000\n",
      "\n",
      "CPU times: total: 5.98 s\n",
      "Wall time: 1.87 s\n"
     ]
    }
   ],
   "source": [
    "%%time\n",
    "#Data with dimensionality reduction by PCA\n",
    "#get and preprocess image data for testing\n",
    "img_data_test=load_image_to_vector('../datasets/celeba_test/img/',1000)\n",
    "img_data_test = transfer.fit_transform(img_data_test )\n",
    "#get label\n",
    "label_test=get_label('../datasets/celeba_test/labels.csv','gender')\n",
    "#pca for image data\n",
    "img_data_test=img_data_pca(img_data_test,100)\n",
    "#load model\n",
    "loaded_model = pickle.load(open(\"LogisticRegression_gender_PCA.dat\",\"rb\"))\n",
    "label_pred=loaded_model.predict(img_data_test)\n",
    "print('Accuracy on test set: '+str(accuracy_score(label_test,label_pred)))\n",
    "print(classification_report(label_test,label_pred))"
   ]
  },
  {
   "cell_type": "code",
   "execution_count": 20,
   "id": "1e3b663c",
   "metadata": {},
   "outputs": [
    {
     "name": "stdout",
     "output_type": "stream",
     "text": [
      "Accuracy on test set: 0.968\n",
      "              precision    recall  f1-score   support\n",
      "\n",
      "          -1       0.97      0.96      0.97       500\n",
      "           1       0.96      0.97      0.97       500\n",
      "\n",
      "    accuracy                           0.97      1000\n",
      "   macro avg       0.97      0.97      0.97      1000\n",
      "weighted avg       0.97      0.97      0.97      1000\n",
      "\n",
      "CPU times: total: 3min 37s\n",
      "Wall time: 3min 45s\n"
     ]
    }
   ],
   "source": [
    "%%time\n",
    "#Data with feature extraction\n",
    "#get and preprocess image data for testing\n",
    "#img_data_test=face_feature_read('face_feature_test')\n",
    "img_data_test=face_feature('celeba_test',1000)\n",
    "img_data_test = transfer.fit_transform(img_data_test )\n",
    "#get label\n",
    "label_test=get_label('../datasets/celeba_test/labels.csv','gender')\n",
    "#load model\n",
    "loaded_model = pickle.load(open(\"LogisticRegression_gender_dlib.dat\",\"rb\"))\n",
    "label_pred=loaded_model.predict(img_data_test)\n",
    "print('Accuracy on test set: '+str(accuracy_score(label_test,label_pred)))\n",
    "print(classification_report(label_test,label_pred))"
   ]
  },
  {
   "cell_type": "code",
   "execution_count": null,
   "id": "403c3790",
   "metadata": {},
   "outputs": [],
   "source": []
  }
 ],
 "metadata": {
  "kernelspec": {
   "display_name": "Python 3 (ipykernel)",
   "language": "python",
   "name": "python3"
  },
  "language_info": {
   "codemirror_mode": {
    "name": "ipython",
    "version": 3
   },
   "file_extension": ".py",
   "mimetype": "text/x-python",
   "name": "python",
   "nbconvert_exporter": "python",
   "pygments_lexer": "ipython3",
   "version": "3.9.12"
  }
 },
 "nbformat": 4,
 "nbformat_minor": 5
}
