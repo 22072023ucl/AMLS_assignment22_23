{
 "cells": [
  {
   "cell_type": "code",
   "execution_count": 1,
   "id": "c441722d",
   "metadata": {},
   "outputs": [],
   "source": [
    "import matplotlib.pyplot as plt\n",
    "import matplotlib.image as mpimg\n",
    "import numpy as np\n",
    "import cv2\n",
    "import pandas as pd\n",
    "from sklearn.decomposition import PCA\n",
    "from sklearn.preprocessing import StandardScaler\n",
    "from sklearn.model_selection import train_test_split\n",
    "from sklearn.linear_model import LogisticRegression\n",
    "from sklearn.metrics import confusion_matrix, classification_report,accuracy_score\n",
    "import pickle\n",
    "import dlib"
   ]
  },
  {
   "cell_type": "code",
   "execution_count": 2,
   "id": "56c03d35",
   "metadata": {},
   "outputs": [],
   "source": [
    "def load_image_to_vector(image_path,image_number):\n",
    "    img_data=[]\n",
    "    for i in range (image_number):\n",
    "        img_color= mpimg.imread(image_path + str(i) + '.jpg')\n",
    "        img=cv2.cvtColor(img_color,cv2.COLOR_BGR2GRAY)\n",
    "        width=np.shape(img_color)[0]\n",
    "        height=np.shape(img_color)[1]\n",
    "        img_vector=img.reshape(width*height)\n",
    "        img_data.append(img_vector)\n",
    "    return img_data"
   ]
  },
  {
   "cell_type": "code",
   "execution_count": 3,
   "id": "51995b67",
   "metadata": {},
   "outputs": [],
   "source": [
    "def get_label(label_path,label_name):\n",
    "    label=pd.read_table(label_path)\n",
    "    y=label[label_name]\n",
    "    return y"
   ]
  },
  {
   "cell_type": "code",
   "execution_count": 13,
   "id": "563e98b3",
   "metadata": {},
   "outputs": [],
   "source": [
    "def LogisticRegression_model(x_train,y_train,x_test,y_test):\n",
    "    clf = LogisticRegression(solver='newton-cg',fit_intercept=True)\n",
    "    clf.fit(x_train, y_train)\n",
    "    y_pred = clf.predict(x_test)\n",
    "    print('Accuracy on train set:'+str(clf.score(x_train,y_train)))\n",
    "    print('Accuracy on test set: '+str(accuracy_score(y_test,y_pred)))\n",
    "    print(classification_report(y_test,y_pred))\n",
    "    return clf"
   ]
  },
  {
   "cell_type": "code",
   "execution_count": 6,
   "id": "0f0a031e",
   "metadata": {},
   "outputs": [],
   "source": [
    "def img_data_pca(img_data,dimention):\n",
    "    pca = PCA(n_components = 100)\n",
    "    pca.fit(img_data)\n",
    "    pca_data=pca.transform(img_data)\n",
    "    return pca_data"
   ]
  },
  {
   "cell_type": "code",
   "execution_count": 5,
   "id": "de275ddf",
   "metadata": {},
   "outputs": [],
   "source": [
    "def lip_feature(img_path,img_number):\n",
    "    detector = dlib.get_frontal_face_detector()\n",
    "    predictor = dlib.shape_predictor('./shape_predictor_68_face_landmarks.dat')\n",
    "    lip_data=[]\n",
    "    nothing_number=[]\n",
    "    for i in range (img_number):\n",
    "        img = cv2.imread('../datasets/'+img_path+'/img/'+str(i)+'.jpg')\n",
    "        img_gray = cv2.cvtColor(img, cv2.COLOR_BGR2GRAY)\n",
    "        positions_68_arr = []\n",
    "        faces = detector(img_gray, 0)\n",
    "        if len(faces) !=0:\n",
    "            landmarks = np.matrix([[p.x, p.y] for p in predictor(img, faces[0]).parts()])\n",
    "            for idx, point in enumerate(landmarks):\n",
    "                #coordinates of 68 points\n",
    "                pos = (point[0, 0], point[0, 1])\n",
    "                positions_68_arr.append(pos)\n",
    "            positions_lip_arr = []\n",
    "            for i in range(48, 68):\n",
    "                positions_lip_arr.append(positions_68_arr[i][0])\n",
    "                positions_lip_arr.append(positions_68_arr[i][1])\n",
    "            lip_data.append(positions_lip_arr)\n",
    "        else:\n",
    "            nothing_number.append(i)\n",
    "            continue\n",
    "    return lip_data,nothing_number"
   ]
  },
  {
   "cell_type": "code",
   "execution_count": 8,
   "id": "db8d4f43",
   "metadata": {},
   "outputs": [],
   "source": [
    "def lip_feature_read(csv_name):\n",
    "    img_data = pd.read_csv('./'+csv_name+'.csv')\n",
    "    img_data=np.array(img_data)\n",
    "    img_data=img_data[:,1:]\n",
    "    return img_data"
   ]
  },
  {
   "cell_type": "code",
   "execution_count": 9,
   "id": "dc958808",
   "metadata": {},
   "outputs": [],
   "source": [
    "def learn_curve(x_train,y_train,x_test,y_test):\n",
    "    l2_iter = []\n",
    "    l2_iter_t = []\n",
    "    iters = np.arange(600,1000,100)\n",
    "    for i in iters:\n",
    "        lr2 = LogisticRegression(penalty=\"l2\",solver='sag',max_iter=i,random_state=0)\n",
    "        lr2 = lr2.fit(x_train,y_train)\n",
    "        l2_iter.append(accuracy_score(lr2.predict(x_train),y_train))\n",
    "        l2_iter_t.append(accuracy_score(lr2.predict(x_test),y_test))\n",
    "    plt.plot(figsize=(20,6))\n",
    "    plt.plot(iters,l2_iter,label='accuracy')\n",
    "    plt.plot(iters,l2_iter_t,label='val_accuracy')\n",
    "    plt.xticks(iters)\n",
    "    plt.xlabel('Iteration')\n",
    "    plt.ylabel('Accuracy')\n",
    "    plt.legend()\n",
    "    plt.show()"
   ]
  },
  {
   "cell_type": "code",
   "execution_count": 9,
   "id": "0ebae990",
   "metadata": {},
   "outputs": [
    {
     "name": "stderr",
     "output_type": "stream",
     "text": [
      "C:\\Users\\ccgba_c8rtor4\\anaconda3\\lib\\site-packages\\sklearn\\linear_model\\_sag.py:352: ConvergenceWarning: The max_iter was reached which means the coef_ did not converge\n",
      "  warnings.warn(\n"
     ]
    },
    {
     "name": "stdout",
     "output_type": "stream",
     "text": [
      "Accuracy on train set:1.0\n",
      "Accuracy on test set: 0.87\n",
      "              precision    recall  f1-score   support\n",
      "\n",
      "          -1       0.87      0.88      0.88       261\n",
      "           1       0.87      0.86      0.86       239\n",
      "\n",
      "    accuracy                           0.87       500\n",
      "   macro avg       0.87      0.87      0.87       500\n",
      "weighted avg       0.87      0.87      0.87       500\n",
      "\n",
      "CPU times: total: 12min 14s\n",
      "Wall time: 12min 36s\n"
     ]
    }
   ],
   "source": [
    "%%time\n",
    "#Data without dimensionality reduction and feature extraction\n",
    "#get image data\n",
    "img_data=load_image_to_vector('../datasets/celeba/img/',5000)\n",
    "#get label\n",
    "label=get_label('../datasets/celeba/labels.csv','smiling')\n",
    "#Standardize the data\n",
    "x_train, x_test, y_train, y_test = train_test_split(img_data, label,test_size=0.1,random_state=0)\n",
    "transfer=StandardScaler()\n",
    "x_train = transfer.fit_transform(x_train)\n",
    "x_test = transfer.transform(x_test)\n",
    "#train the model and report accuracy\n",
    "model=LogisticRegression_model(x_train,y_train,x_test,y_test)\n",
    "#save model\n",
    "pickle.dump(model,open(\"LogisticRegression_smiling.dat\",\"wb\")) "
   ]
  },
  {
   "cell_type": "code",
   "execution_count": 10,
   "id": "c260345c",
   "metadata": {},
   "outputs": [
    {
     "name": "stdout",
     "output_type": "stream",
     "text": [
      "Accuracy on train set:0.8466666666666667\n",
      "Accuracy on test set: 0.42\n",
      "              precision    recall  f1-score   support\n",
      "\n",
      "          -1       0.43      0.36      0.40       261\n",
      "           1       0.41      0.48      0.44       239\n",
      "\n",
      "    accuracy                           0.42       500\n",
      "   macro avg       0.42      0.42      0.42       500\n",
      "weighted avg       0.42      0.42      0.42       500\n",
      "\n",
      "CPU times: total: 36 s\n",
      "Wall time: 7.54 s\n"
     ]
    }
   ],
   "source": [
    "%%time\n",
    "#Data with dimensionality reduction by PCA\n",
    "#get image data\n",
    "img_data=load_image_to_vector('../datasets/celeba/img/',5000)\n",
    "#get label\n",
    "label=get_label('../datasets/celeba/labels.csv','smiling')\n",
    "#pca for image data\n",
    "x_train, x_test, y_train, y_test = train_test_split(img_data, label,test_size=0.1,random_state=0)\n",
    "x_train=img_data_pca(x_train,100)\n",
    "x_test=img_data_pca(x_test,100)\n",
    "#Standardize the data\n",
    "transfer=StandardScaler()\n",
    "x_train = transfer.fit_transform(x_train)\n",
    "x_test = transfer.transform(x_test)\n",
    "#train the model and report accuracy\n",
    "model=LogisticRegression_model(x_train,y_train,x_test,y_test)\n",
    "#save model\n",
    "pickle.dump(model,open(\"LogisticRegression_smiling_PCA.dat\",\"wb\")) "
   ]
  },
  {
   "cell_type": "code",
   "execution_count": 14,
   "id": "8a769d20",
   "metadata": {},
   "outputs": [
    {
     "name": "stdout",
     "output_type": "stream",
     "text": [
      "Accuracy on train set:0.8833638863428047\n",
      "Accuracy on test set: 0.8721649484536083\n",
      "              precision    recall  f1-score   support\n",
      "\n",
      "          -1       0.87      0.87      0.87       241\n",
      "           1       0.87      0.88      0.87       244\n",
      "\n",
      "    accuracy                           0.87       485\n",
      "   macro avg       0.87      0.87      0.87       485\n",
      "weighted avg       0.87      0.87      0.87       485\n",
      "\n",
      "CPU times: total: 25.7 s\n",
      "Wall time: 26.3 s\n"
     ]
    }
   ],
   "source": [
    "%%time\n",
    "#Data with feature extraction\n",
    "img_data,nothing_number=lip_feature('celeba',5000)\n",
    "#get label\n",
    "label=get_label('../datasets/celeba/labels.csv','smiling')\n",
    "for i in range(len(nothing_number)):\n",
    "    del label[nothing_number[i]]\n",
    "#Standardize the data\n",
    "x_train, x_test, y_train, y_test = train_test_split(img_data, label,test_size=0.1,random_state=0)\n",
    "transfer=StandardScaler()\n",
    "x_train = transfer.fit_transform(x_train)\n",
    "x_test = transfer.transform(x_test)\n",
    "#train the model and report accuracy\n",
    "model=LogisticRegression_model(x_train,y_train,x_test,y_test)\n",
    "#save model\n",
    "pickle.dump(model,open(\"LogisticRegression_smiling_dlib_lip.dat\",\"wb\")) "
   ]
  },
  {
   "cell_type": "code",
   "execution_count": 12,
   "id": "9dba0f5f",
   "metadata": {},
   "outputs": [
    {
     "data": {
      "image/png": "[encoded data removed]",
      "text/plain": [
       "<Figure size 432x288 with 1 Axes>"
      ]
     },
     "metadata": {
      "needs_background": "light"
     },
     "output_type": "display_data"
    }
   ],
   "source": [
    "#learning_curve for LR\n",
    "learn_curve(x_train,y_train,x_test,y_test)"
   ]
  },
  {
   "cell_type": "code",
   "execution_count": null,
   "id": "22295d16",
   "metadata": {},
   "outputs": [],
   "source": [
    "#The following is for testing "
   ]
  },
  {
   "cell_type": "code",
   "execution_count": 13,
   "id": "3c6de01e",
   "metadata": {},
   "outputs": [
    {
     "name": "stdout",
     "output_type": "stream",
     "text": [
      "Accuracy on test set: 0.858\n",
      "              precision    recall  f1-score   support\n",
      "\n",
      "          -1       0.86      0.86      0.86       500\n",
      "           1       0.86      0.86      0.86       500\n",
      "\n",
      "    accuracy                           0.86      1000\n",
      "   macro avg       0.86      0.86      0.86      1000\n",
      "weighted avg       0.86      0.86      0.86      1000\n",
      "\n",
      "CPU times: total: 1.05 s\n",
      "Wall time: 854 ms\n"
     ]
    }
   ],
   "source": [
    "%%time\n",
    "##Data without dimensionality reduction and feature extraction\n",
    "#get and preprocess image data for testing\n",
    "img_data_test=load_image_to_vector('../datasets/celeba_test/img/',1000)\n",
    "img_data_test = transfer.fit_transform(img_data_test)\n",
    "#get label_test\n",
    "label_test=get_label('../datasets/celeba_test/labels.csv','smiling')\n",
    "#load model\n",
    "loaded_model = pickle.load(open(\"LogisticRegression_smiling.dat\",\"rb\"))\n",
    "label_pred=loaded_model.predict(img_data_test)\n",
    "print('Accuracy on test set: '+str(accuracy_score(label_test,label_pred)))\n",
    "print(classification_report(label_test,label_pred))"
   ]
  },
  {
   "cell_type": "code",
   "execution_count": 14,
   "id": "2e8c2dca",
   "metadata": {},
   "outputs": [
    {
     "name": "stdout",
     "output_type": "stream",
     "text": [
      "Accuracy on test set: 0.537\n",
      "              precision    recall  f1-score   support\n",
      "\n",
      "          -1       0.54      0.56      0.55       500\n",
      "           1       0.54      0.51      0.52       500\n",
      "\n",
      "    accuracy                           0.54      1000\n",
      "   macro avg       0.54      0.54      0.54      1000\n",
      "weighted avg       0.54      0.54      0.54      1000\n",
      "\n",
      "CPU times: total: 5.31 s\n",
      "Wall time: 1.84 s\n"
     ]
    }
   ],
   "source": [
    "%%time\n",
    "#Data with dimensionality reduction by PCA\n",
    "#get and preprocess image data for testing\n",
    "img_data_test=load_image_to_vector('../datasets/celeba_test/img/',1000)\n",
    "img_data_test = transfer.fit_transform(img_data_test )\n",
    "#get label\n",
    "label_test=get_label('../datasets/celeba_test/labels.csv','smiling')\n",
    "#pca for image data\n",
    "img_data_test=img_data_pca(img_data_test,100)\n",
    "#load model\n",
    "loaded_model = pickle.load(open(\"LogisticRegression_smiling_PCA.dat\",\"rb\"))\n",
    "label_pred=loaded_model.predict(img_data_test)\n",
    "print('Accuracy on test set: '+str(accuracy_score(label_test,label_pred)))\n",
    "print(classification_report(label_test,label_pred))"
   ]
  },
  {
   "cell_type": "code",
   "execution_count": 15,
   "id": "1e3b663c",
   "metadata": {
    "scrolled": true
   },
   "outputs": [
    {
     "name": "stdout",
     "output_type": "stream",
     "text": [
      "Accuracy on test set: 0.9036885245901639\n",
      "              precision    recall  f1-score   support\n",
      "\n",
      "          -1       0.88      0.92      0.90       477\n",
      "           1       0.92      0.88      0.90       499\n",
      "\n",
      "    accuracy                           0.90       976\n",
      "   macro avg       0.90      0.90      0.90       976\n",
      "weighted avg       0.90      0.90      0.90       976\n",
      "\n",
      "CPU times: total: 5.66 s\n",
      "Wall time: 5.65 s\n"
     ]
    }
   ],
   "source": [
    "%%time\n",
    "#Data with feature extraction\n",
    "#get and preprocess image data for testing\n",
    "img_data_test,nothing_number_test=lip_feature('celeba_test',1000)\n",
    "img_data_test = transfer.fit_transform(img_data_test )\n",
    "#get label\n",
    "label_test=get_label('../datasets/celeba_test/labels.csv','smiling')\n",
    "for i in range(len(nothing_number_test)):\n",
    "    del label_test[nothing_number_test[i]]\n",
    "#load model\n",
    "loaded_model = pickle.load(open(\"LogisticRegression_smiling_dlib_lip.dat\",\"rb\"))\n",
    "label_pred=loaded_model.predict(img_data_test)\n",
    "print('Accuracy on test set: '+str(accuracy_score(label_test,label_pred)))\n",
    "print(classification_report(label_test,label_pred))"
   ]
  },
  {
   "cell_type": "code",
   "execution_count": null,
   "id": "403c3790",
   "metadata": {},
   "outputs": [],
   "source": []
  }
 ],
 "metadata": {
  "kernelspec": {
   "display_name": "Python 3 (ipykernel)",
   "language": "python",
   "name": "python3"
  },
  "language_info": {
   "codemirror_mode": {
    "name": "ipython",
    "version": 3
   },
   "file_extension": ".py",
   "mimetype": "text/x-python",
   "name": "python",
   "nbconvert_exporter": "python",
   "pygments_lexer": "ipython3",
   "version": "3.9.12"
  }
 },
 "nbformat": 4,
 "nbformat_minor": 5
}
