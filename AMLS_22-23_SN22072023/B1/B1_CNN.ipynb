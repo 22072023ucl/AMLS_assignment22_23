{
 "cells": [
  {
   "cell_type": "code",
   "execution_count": 1,
   "id": "d10b16d1",
   "metadata": {},
   "outputs": [],
   "source": [
    "import tensorflow as tf\n",
    "from tensorflow.keras import datasets, layers, models\n",
    "import matplotlib.pyplot as plt\n",
    "import matplotlib.image as mpimg\n",
    "import cv2\n",
    "import numpy as np\n",
    "import pandas as pd\n",
    "from sklearn.model_selection import train_test_split\n",
    "from sklearn.preprocessing import StandardScaler\n",
    "import pickle\n",
    "from sklearn.metrics import confusion_matrix, classification_report,accuracy_score"
   ]
  },
  {
   "cell_type": "code",
   "execution_count": 2,
   "id": "7c984e9f",
   "metadata": {},
   "outputs": [],
   "source": [
    "def get_color_image(img_path,img_number):\n",
    "    img_data=[]\n",
    "    for i in range (img_number):\n",
    "        img = mpimg.imread('../datasets/'+img_path+'/img/' + str(i) + '.png')\n",
    "        img=cv2.resize(img,(200,200))\n",
    "        img_data.append(img)\n",
    "    img_data=np.array(img_data)\n",
    "    return img_data"
   ]
  },
  {
   "cell_type": "code",
   "execution_count": 3,
   "id": "af95d906",
   "metadata": {},
   "outputs": [],
   "source": [
    "def get_cartoon_label(label_path,label_name,label_number):\n",
    "    label=pd.read_table('../datasets/'+label_path+'/labels.csv')\n",
    "    label= label[label_name]\n",
    "    label=label[:label_number]\n",
    "    label= np.array(label)\n",
    "    vector2arr = np.mat(label)\n",
    "    label = vector2arr.A.T\n",
    "    return label"
   ]
  },
  {
   "cell_type": "code",
   "execution_count": 4,
   "id": "dff273b6",
   "metadata": {},
   "outputs": [],
   "source": [
    "def train_model(x_train, x_test, y_train, y_test):\n",
    "    model = models.Sequential([\n",
    "    layers.Conv2D(32, (3, 3), activation='relu', input_shape=(200,200,4)),  # convolutional layer 1，convolution kernel 3*3\n",
    "    layers.MaxPooling2D((2, 2)),  # pooling layer 1，2*2\n",
    "    layers.Conv2D(64, (3, 3), activation='relu'),  # convolutional layer 2，convolution kernel 3*3\n",
    "    layers.MaxPooling2D((2, 2)),  # pooling layer 2，2*2\n",
    "    layers.Conv2D(64, (3, 3), activation='relu'),  # convolutional layer 3，convolution kernel 3*3\n",
    "    layers.Dropout(.2),\n",
    "\n",
    "\n",
    "    layers.Flatten(),  # Flatten\n",
    "    layers.Dense(128, activation='relu'),  # FP layer\n",
    "    layers.Dropout(.2),\n",
    "    layers.Dense(64, activation='relu'),  # FP layer\n",
    "    layers.Dense(10)  # output layer\n",
    "    ])\n",
    "    model.compile(optimizer='adam',loss=tf.keras.losses.SparseCategoricalCrossentropy(from_logits=True),metrics=['accuracy'])\n",
    "    history = model.fit(x_train, y_train, epochs=10, validation_data=(x_test, y_test))\n",
    "    return model\n",
    "\n"
   ]
  },
  {
   "cell_type": "code",
   "execution_count": 6,
   "id": "998ab415",
   "metadata": {},
   "outputs": [
    {
     "name": "stdout",
     "output_type": "stream",
     "text": [
      "Epoch 1/10\n",
      "141/141 [==============================] - 65s 450ms/step - loss: 1.4345 - accuracy: 0.4711 - val_loss: 0.1626 - val_accuracy: 0.9440\n",
      "Epoch 2/10\n",
      "141/141 [==============================] - 69s 488ms/step - loss: 0.0863 - accuracy: 0.9753 - val_loss: 0.0167 - val_accuracy: 0.9940\n",
      "Epoch 3/10\n",
      "141/141 [==============================] - 68s 483ms/step - loss: 0.0307 - accuracy: 0.9913 - val_loss: 0.0165 - val_accuracy: 0.9940\n",
      "Epoch 4/10\n",
      "141/141 [==============================] - 68s 483ms/step - loss: 0.0210 - accuracy: 0.9936 - val_loss: 0.0056 - val_accuracy: 0.9980\n",
      "Epoch 5/10\n",
      "141/141 [==============================] - 71s 500ms/step - loss: 0.0103 - accuracy: 0.9967 - val_loss: 0.0080 - val_accuracy: 0.9960\n",
      "Epoch 6/10\n",
      "141/141 [==============================] - 67s 478ms/step - loss: 0.0112 - accuracy: 0.9953 - val_loss: 0.0012 - val_accuracy: 1.0000\n",
      "Epoch 7/10\n",
      "141/141 [==============================] - 68s 481ms/step - loss: 0.0077 - accuracy: 0.9976 - val_loss: 5.6828e-04 - val_accuracy: 1.0000\n",
      "Epoch 8/10\n",
      "141/141 [==============================] - 68s 479ms/step - loss: 0.0047 - accuracy: 0.9987 - val_loss: 2.8269e-04 - val_accuracy: 1.0000\n",
      "Epoch 9/10\n",
      "141/141 [==============================] - 68s 482ms/step - loss: 0.0075 - accuracy: 0.9969 - val_loss: 0.0046 - val_accuracy: 0.9980\n",
      "Epoch 10/10\n",
      "141/141 [==============================] - 68s 481ms/step - loss: 0.0052 - accuracy: 0.9982 - val_loss: 0.0030 - val_accuracy: 0.9980\n",
      "Keras weights file (<HDF5 file \"variables.h5\" (mode r+)>) saving:\n",
      "...layers\\conv2d\n",
      "......vars\n",
      ".........0\n",
      ".........1\n",
      "...layers\\conv2d_1\n",
      "......vars\n",
      ".........0\n",
      ".........1\n",
      "...layers\\conv2d_2\n",
      "......vars\n",
      ".........0\n",
      ".........1\n",
      "...layers\\dense\n",
      "......vars\n",
      ".........0\n",
      ".........1\n",
      "...layers\\dense_1\n",
      "......vars\n",
      ".........0\n",
      ".........1\n",
      "...layers\\dense_2\n",
      "......vars\n",
      ".........0\n",
      ".........1\n",
      "...layers\\dropout\n",
      "......vars\n",
      "...layers\\dropout_1\n",
      "......vars\n",
      "...layers\\flatten\n",
      "......vars\n",
      "...layers\\max_pooling2d\n",
      "......vars\n",
      "...layers\\max_pooling2d_1\n",
      "......vars\n",
      "...metrics\\mean\n",
      "......vars\n",
      ".........0\n",
      ".........1\n",
      "...metrics\\mean_metric_wrapper\n",
      "......vars\n",
      ".........0\n",
      ".........1\n",
      "...optimizer\n",
      "......vars\n",
      ".........0\n",
      ".........1\n",
      ".........10\n",
      ".........11\n",
      ".........12\n",
      ".........13\n",
      ".........14\n",
      ".........15\n",
      ".........16\n",
      ".........17\n",
      ".........18\n",
      ".........19\n",
      ".........2\n",
      ".........20\n",
      ".........21\n",
      ".........22\n",
      ".........23\n",
      ".........24\n",
      ".........3\n",
      ".........4\n",
      ".........5\n",
      ".........6\n",
      ".........7\n",
      ".........8\n",
      ".........9\n",
      "...vars\n",
      "Keras model archive saving:\n",
      "File Name                                             Modified             Size\n",
      "config.json                                    2023-01-12 15:11:23         4591\n",
      "metadata.json                                  2023-01-12 15:11:23           64\n",
      "variables.h5                                   2023-01-12 15:11:23    208843856\n",
      "CPU times: total: 2h 19min 53s\n",
      "Wall time: 11min 40s\n"
     ]
    }
   ],
   "source": [
    "%%time\n",
    "#get color image data\n",
    "img_data=get_color_image('cartoon_set',5000)\n",
    "#get labels\n",
    "label=get_cartoon_label('cartoon_set','face_shape',5000)\n",
    "#train set and validation set\n",
    "x_train, x_test, y_train, y_test = train_test_split(img_data, label,test_size=0.1,random_state=0)\n",
    "#model\n",
    "model=train_model(x_train, x_test, y_train, y_test)\n",
    "#save model\n",
    "pickle.dump(model,open(\"CNN_shape.dat\",\"wb\"))  "
   ]
  },
  {
   "cell_type": "code",
   "execution_count": 10,
   "id": "1cb172fb",
   "metadata": {},
   "outputs": [
    {
     "data": {
      "image/png": "[encoded data removed]",
      "text/plain": [
       "<Figure size 432x288 with 1 Axes>"
      ]
     },
     "metadata": {
      "needs_background": "light"
     },
     "output_type": "display_data"
    },
    {
     "name": "stdout",
     "output_type": "stream",
     "text": [
      "16/16 - 1s - loss: 8.8657e-04 - accuracy: 1.0000 - 1s/epoch - 73ms/step\n"
     ]
    },
    {
     "data": {
      "text/plain": [
       "<Figure size 432x288 with 0 Axes>"
      ]
     },
     "metadata": {},
     "output_type": "display_data"
    }
   ],
   "source": [
    "plt.plot(history.history['accuracy'], label='accuracy')\n",
    "plt.plot(history.history['val_accuracy'], label='val_accuracy')\n",
    "plt.xlabel('Epoch')\n",
    "plt.ylabel('Accuracy')\n",
    "plt.ylim([0.4, 1])\n",
    "plt.legend(loc='lower right')\n",
    "plt.show()\n",
    "test_loss, test_acc = model.evaluate(x_test,y_test, verbose=2)\n",
    "plt.savefig(\"./B1_accuracy.jpg\") "
   ]
  },
  {
   "cell_type": "code",
   "execution_count": 11,
   "id": "031f9459",
   "metadata": {},
   "outputs": [
    {
     "data": {
      "image/png": "[encoded data removed]",
      "text/plain": [
       "<Figure size 432x288 with 1 Axes>"
      ]
     },
     "metadata": {
      "needs_background": "light"
     },
     "output_type": "display_data"
    },
    {
     "name": "stdout",
     "output_type": "stream",
     "text": [
      "16/16 - 1s - loss: 8.8657e-04 - accuracy: 1.0000 - 1s/epoch - 76ms/step\n"
     ]
    },
    {
     "data": {
      "text/plain": [
       "<Figure size 432x288 with 0 Axes>"
      ]
     },
     "metadata": {},
     "output_type": "display_data"
    }
   ],
   "source": [
    "plt.plot(history.history['loss'], label='loss')\n",
    "plt.plot(history.history['val_loss'], label='val_loss')\n",
    "plt.xlabel('Epoch')\n",
    "plt.ylabel('loss')\n",
    "plt.ylim([0, 1.7])\n",
    "plt.legend(loc='lower right')\n",
    "plt.show()\n",
    "test_loss, test_acc = model.evaluate(x_test,y_test, verbose=2)\n",
    "plt.savefig(\"./B1_loss.jpg\") "
   ]
  },
  {
   "cell_type": "code",
   "execution_count": 8,
   "id": "8cfdfa25",
   "metadata": {},
   "outputs": [
    {
     "name": "stdout",
     "output_type": "stream",
     "text": [
      "Keras model archive loading:\n",
      "File Name                                             Modified             Size\n",
      "config.json                                    2023-01-12 15:11:22         4591\n",
      "metadata.json                                  2023-01-12 15:11:22           64\n",
      "variables.h5                                   2023-01-12 15:11:22    208843856\n",
      "Keras weights file (<HDF5 file \"variables.h5\" (mode r)>) loading:\n",
      "...layers\\conv2d\n",
      "......vars\n",
      ".........0\n",
      ".........1\n",
      "...layers\\conv2d_1\n",
      "......vars\n",
      ".........0\n",
      ".........1\n",
      "...layers\\conv2d_2\n",
      "......vars\n",
      ".........0\n",
      ".........1\n",
      "...layers\\dense\n",
      "......vars\n",
      ".........0\n",
      ".........1\n",
      "...layers\\dense_1\n",
      "......vars\n",
      ".........0\n",
      ".........1\n",
      "...layers\\dense_2\n",
      "......vars\n",
      ".........0\n",
      ".........1\n",
      "...layers\\dropout\n",
      "......vars\n",
      "...layers\\dropout_1\n",
      "......vars\n",
      "...layers\\flatten\n",
      "......vars\n",
      "...layers\\max_pooling2d\n",
      "......vars\n",
      "...layers\\max_pooling2d_1\n",
      "......vars\n",
      "...metrics\\mean\n",
      "......vars\n",
      ".........0\n",
      ".........1\n",
      "...metrics\\mean_metric_wrapper\n",
      "......vars\n",
      ".........0\n",
      ".........1\n",
      "...optimizer\n",
      "......vars\n",
      ".........0\n",
      ".........1\n",
      ".........10\n",
      ".........11\n",
      ".........12\n",
      ".........13\n",
      ".........14\n",
      ".........15\n",
      ".........16\n",
      ".........17\n",
      ".........18\n",
      ".........19\n",
      ".........2\n",
      ".........20\n",
      ".........21\n",
      ".........22\n",
      ".........23\n",
      ".........24\n",
      ".........3\n",
      ".........4\n",
      ".........5\n",
      ".........6\n",
      ".........7\n",
      ".........8\n",
      ".........9\n",
      "...vars\n",
      "79/79 [==============================] - 6s 75ms/step - loss: 0.0031 - accuracy: 0.9988\n",
      "CPU times: total: 1min 18s\n",
      "Wall time: 16.5 s\n"
     ]
    }
   ],
   "source": [
    "%%time\n",
    "img_data_test=get_color_image('cartoon_set_test',2500)\n",
    "label_test=get_cartoon_label('cartoon_set_test','face_shape',2500)\n",
    "loaded_model = pickle.load(open(\"CNN_shape.dat\",\"rb\"))\n",
    "label_pred=loaded_model.evaluate(img_data_test,label_test)"
   ]
  },
  {
   "cell_type": "code",
   "execution_count": null,
   "id": "99bbc177",
   "metadata": {},
   "outputs": [],
   "source": []
  }
 ],
 "metadata": {
  "kernelspec": {
   "display_name": "Python 3 (ipykernel)",
   "language": "python",
   "name": "python3"
  },
  "language_info": {
   "codemirror_mode": {
    "name": "ipython",
    "version": 3
   },
   "file_extension": ".py",
   "mimetype": "text/x-python",
   "name": "python",
   "nbconvert_exporter": "python",
   "pygments_lexer": "ipython3",
   "version": "3.9.12"
  }
 },
 "nbformat": 4,
 "nbformat_minor": 5
}
