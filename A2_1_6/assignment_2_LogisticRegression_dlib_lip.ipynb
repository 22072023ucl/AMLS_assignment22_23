{
 "cells": [
  {
   "cell_type": "code",
   "execution_count": 1,
   "id": "739b3c73",
   "metadata": {},
   "outputs": [],
   "source": [
    "import dlib        \n",
    "import numpy as np \n",
    "import cv2          \n",
    "import os          \n",
    "import pandas as pd\n",
    "from sklearn.decomposition import PCA\n",
    "from sklearn.model_selection import train_test_split\n",
    "from sklearn.preprocessing import MinMaxScaler\n",
    "from sklearn.linear_model import LogisticRegression\n",
    "from sklearn.metrics import confusion_matrix, classification_report,accuracy_score\n",
    "from sklearn.linear_model import LogisticRegressionCV"
   ]
  },
  {
   "cell_type": "code",
   "execution_count": 2,
   "id": "da54976a",
   "metadata": {},
   "outputs": [],
   "source": [
    "detector = dlib.get_frontal_face_detector()\n",
    "predictor = dlib.shape_predictor('./shape_predictor_68_face_landmarks.dat')"
   ]
  },
  {
   "cell_type": "code",
   "execution_count": 3,
   "id": "3c71b1a8",
   "metadata": {},
   "outputs": [],
   "source": [
    "lip_data=[]\n",
    "nothing_number=[]\n",
    "for i in range (5000):\n",
    "    img = cv2.imread('../datasets/celeba/img/'+str(i)+'.jpg')\n",
    "    img_gray = cv2.cvtColor(img, cv2.COLOR_BGR2GRAY)\n",
    "    positions_68_arr = []\n",
    "    faces = detector(img_gray, 0)\n",
    "    if len(faces) !=0:\n",
    "        landmarks = np.matrix([[p.x, p.y] for p in predictor(img, faces[0]).parts()])\n",
    "\n",
    "        for idx, point in enumerate(landmarks):\n",
    "        #coordinates of 68 points\n",
    "            pos = (point[0, 0], point[0, 1])\n",
    "            positions_68_arr.append(pos)\n",
    "\n",
    "        positions_lip_arr = []\n",
    "        #coordinates of 49-68 points which represents mouth\n",
    "        for i in range(48, 68):\n",
    "            positions_lip_arr.append(positions_68_arr[i][0])\n",
    "            positions_lip_arr.append(positions_68_arr[i][1])\n",
    "        lip_data.append(positions_lip_arr)\n",
    "    else:\n",
    "        nothing_number.append(i)\n",
    "        continue"
   ]
  },
  {
   "cell_type": "code",
   "execution_count": 5,
   "id": "df097d3e",
   "metadata": {},
   "outputs": [],
   "source": [
    "import pandas as pd\n",
    "lip_data_dt = pd.DataFrame(lip_data)\n",
    "lip_data_dt.to_csv('lip.csv')"
   ]
  },
  {
   "cell_type": "code",
   "execution_count": 4,
   "id": "6903892a",
   "metadata": {},
   "outputs": [],
   "source": [
    "label=pd.read_table('../datasets/celeba/labels.csv')"
   ]
  },
  {
   "cell_type": "code",
   "execution_count": 6,
   "id": "3131294d",
   "metadata": {},
   "outputs": [],
   "source": [
    "# Split the data\n",
    "x = lip_data\n",
    "y = label['smiling']"
   ]
  },
  {
   "cell_type": "code",
   "execution_count": 7,
   "id": "1df300c8",
   "metadata": {},
   "outputs": [],
   "source": [
    "for i in range(len(nothing_number)):\n",
    "    del y[nothing_number[i]]\n",
    "\n",
    "# Split the data into training and testing(75% training and 25% testing data)\n",
    "x_train, x_test, y_train, y_test = train_test_split(x, y,random_state=0)# Pre-process data\n",
    "from sklearn.preprocessing import StandardScaler\n",
    "x_train = StandardScaler().fit_transform(x_train)\n",
    "x_test = StandardScaler().fit_transform(x_test)"
   ]
  },
  {
   "cell_type": "code",
   "execution_count": 9,
   "id": "06d5cf40",
   "metadata": {},
   "outputs": [],
   "source": [
    "import pandas as pd\n",
    "y_dt = pd.DataFrame(y)\n",
    "y.to_csv('true_label.csv')"
   ]
  },
  {
   "cell_type": "code",
   "execution_count": 8,
   "id": "a8dcbc59",
   "metadata": {},
   "outputs": [
    {
     "name": "stdout",
     "output_type": "stream",
     "text": [
      "Accuracy on train set:0.8847634763476347\n",
      "Accuracy on test set: 0.8821104699093157\n",
      "              precision    recall  f1-score   support\n",
      "\n",
      "          -1       0.87      0.90      0.88       594\n",
      "           1       0.90      0.87      0.88       619\n",
      "\n",
      "    accuracy                           0.88      1213\n",
      "   macro avg       0.88      0.88      0.88      1213\n",
      "weighted avg       0.88      0.88      0.88      1213\n",
      "\n"
     ]
    }
   ],
   "source": [
    "logreg = LogisticRegression(solver='lbfgs',max_iter=1000)\n",
    "logreg.fit(x_train, y_train)\n",
    "y_pred= logreg.predict(x_test)\n",
    "print('Accuracy on train set:'+str(logreg.score(x_train,y_train)))\n",
    "print('Accuracy on test set: '+str(accuracy_score(y_test,y_pred)))\n",
    "print(classification_report(y_test,y_pred))#text report showing the main classification metrics"
   ]
  },
  {
   "cell_type": "code",
   "execution_count": 10,
   "id": "fc2abc5d",
   "metadata": {},
   "outputs": [],
   "source": [
    "import pickle\n",
    "\n",
    "#save model\n",
    "pickle.dump(logreg,open(\"LogisticRegression_smiling_split_dlib_lip.dat\",\"wb\"))  \n",
    "\n",
    "# load model\n",
    "loaded_model = pickle.load(open(\"LogisticRegression_smiling_split_dlib_lip.dat\",\"rb\"))\n",
    "\n",
    "y_pred=loaded_model.predict(x_test)"
   ]
  },
  {
   "cell_type": "code",
   "execution_count": null,
   "id": "48181f22",
   "metadata": {},
   "outputs": [],
   "source": []
  }
 ],
 "metadata": {
  "kernelspec": {
   "display_name": "Python 3 (ipykernel)",
   "language": "python",
   "name": "python3"
  },
  "language_info": {
   "codemirror_mode": {
    "name": "ipython",
    "version": 3
   },
   "file_extension": ".py",
   "mimetype": "text/x-python",
   "name": "python",
   "nbconvert_exporter": "python",
   "pygments_lexer": "ipython3",
   "version": "3.9.12"
  }
 },
 "nbformat": 4,
 "nbformat_minor": 5
}
